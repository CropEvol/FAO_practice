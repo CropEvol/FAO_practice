{
  "nbformat": 4,
  "nbformat_minor": 0,
  "metadata": {
    "colab": {
      "name": "GenomicPrediction.ipynb",
      "provenance": [],
      "collapsed_sections": [],
      "toc_visible": true
    },
    "kernelspec": {
      "name": "python3",
      "display_name": "Python 3"
    }
  },
  "cells": [
    {
      "cell_type": "markdown",
      "metadata": {
        "id": "vFnKcfhjYcjf"
      },
      "source": [
        "<img src=\"https://github.com/slt666666/FAO_lecture/blob/main/title.png?raw=true\" alt=\"title\" height=\"300px\">\n"
      ]
    },
    {
      "cell_type": "markdown",
      "metadata": {
        "id": "31NfnQcvPDoY"
      },
      "source": [
        "# Genomic Prediction - example -"
      ]
    },
    {
      "cell_type": "markdown",
      "source": [
        "## The contents in this notebook ... \n",
        "\n",
        "* Review of Genomic Prediction\n",
        "\n",
        "* Genomic prediction model using sample dataset\n",
        "\n",
        "  * We assume rice population."
      ],
      "metadata": {
        "id": "wZpUAKrgmHnm"
      }
    },
    {
      "cell_type": "markdown",
      "source": [
        "# Main contents"
      ],
      "metadata": {
        "id": "pYgp_cqzl-pM"
      }
    },
    {
      "cell_type": "markdown",
      "source": [
        "# Review of Genomic Prediction\n",
        "\n",
        "Genomic prediction is to generate prediction model that explain phenotype by genotype.\n",
        "\n",
        "The process to generate genomic prediction model is ...\n",
        "\n",
        "1. Prepared mating population such as recombinant imbred lines (RILs), Nested association mapping (NAM) population, ...etc.\n",
        "\n",
        "2. Perform genotyping by NGS and phenotyping.\n",
        "\n",
        "3. Modeling the relationship between genotyping and phenotyping.\n",
        "\n",
        "4. Check performance of the generated model.\n",
        "\n",
        "<img src=\"https://github.com/slt666666/FAO_lecture/blob/main/genomic_prediction.png?raw=true\" alt=\"colab\" height=\"300px\">\n",
        "\n",
        "After generating good genomic prediction model,\n",
        "\n",
        "we can apply the model to improve breeding strategy.\n",
        "\n",
        "<img src=\"https://github.com/slt666666/FAO_lecture/blob/main/apply_model.png?raw=true\" alt=\"colab\" height=\"600px\">\n",
        "\n"
      ],
      "metadata": {
        "id": "F4tPUz-Y9TgH"
      }
    },
    {
      "cell_type": "markdown",
      "source": [
        "# Experience Genomic Prediction\n",
        "In this notebook, we try to make genomic prediction model and apply it to the genomic breeding."
      ],
      "metadata": {
        "id": "Xt6EApFB9zM2"
      }
    },
    {
      "cell_type": "code",
      "source": [
        "# Prepare modules & packages\n",
        "!wget -O genomic_prediction.py https://github.com/slt666666/FAO_lecture/blob/main/genomic_prediction.py?raw=true\n",
        "\n",
        "from genomic_prediction import load_dataset\n",
        "from genomic_prediction import split_dataset\n",
        "from genomic_prediction import make_genomic_prediction_model\n",
        "from genomic_prediction import predict_phenotype\n",
        "from genomic_prediction import check_accuracy"
      ],
      "metadata": {
        "id": "SrpHtwtSwcNi"
      },
      "execution_count": null,
      "outputs": []
    },
    {
      "cell_type": "markdown",
      "source": [
        "## Materials\n",
        "\n",
        "We generated NAM population by crossing rice cultivar A and 5 other cultivars (B~F).\n",
        "\n",
        "<img src=\"https://github.com/slt666666/FAO_lecture/blob/main/nam.png?raw=true\" alt=\"colab\" height=\"300px\">\n",
        "\n",
        "Then, we perform sequencing & phenotyping for this population.\n",
        "\n",
        "<img src=\"https://github.com/slt666666/FAO_lecture/blob/main/genopheno.png?raw=true\" alt=\"colab\" height=\"300px\">"
      ],
      "metadata": {
        "id": "KF6GfH3MNxlq"
      }
    },
    {
      "cell_type": "markdown",
      "source": [
        "## Load dataset\n",
        "\n",
        "In this notebook, we use genotype & phenotype dataset of NAM population."
      ],
      "metadata": {
        "id": "jzvltZVdLDdI"
      }
    },
    {
      "cell_type": "code",
      "source": [
        "genotype, phenotype = load_dataset()"
      ],
      "metadata": {
        "id": "jCmpDUgJLDBt"
      },
      "execution_count": null,
      "outputs": []
    },
    {
      "cell_type": "markdown",
      "source": [
        "The dataset include almost 1000 lines.\n",
        "\n",
        "- SNP genotype\n",
        "- Grain number & Leaf width phenotypes"
      ],
      "metadata": {
        "id": "Ze78U4-QLIGW"
      }
    },
    {
      "cell_type": "code",
      "source": [
        "display(genotype)\n",
        "display(phenotype)"
      ],
      "metadata": {
        "id": "tTDuuDTCLIO3"
      },
      "execution_count": null,
      "outputs": []
    },
    {
      "cell_type": "markdown",
      "source": [
        "## Methods\n",
        "\n",
        "The process to generate genomic prediction model & check performance of the model is ...\n",
        "\n",
        "1. Separate all data to 80%(training data) & 20%(test data).\n",
        "\n",
        "2. Make prediction model using training data. (we use ElasticNet regression model in this notebook)\n",
        "\n",
        "3. Predict phenotype of test data **from genotype** by generated model\n",
        "\n",
        "4. Compare predicted phenotype & observed phenotype to check performance of the model\n",
        "\n",
        "<img src=\"https://github.com/slt666666/FAO_lecture/blob/main/gpmethod.png?raw=true\" alt=\"colab\" height=\"400px\">"
      ],
      "metadata": {
        "id": "e2Pav8mkvHcw"
      }
    },
    {
      "cell_type": "markdown",
      "source": [
        "## Separate dataset\n",
        "\n",
        "To separate dataset to training data and test data, we split dataset."
      ],
      "metadata": {
        "id": "I3fT-bcDWsEx"
      }
    },
    {
      "cell_type": "code",
      "source": [
        "test_genotype, test_phenotype, train_genotype, train_phenotype = split_dataset(genotype, phenotype, \"LW_mean\", test=0.2)"
      ],
      "metadata": {
        "id": "4v1TBnKxBkoq"
      },
      "execution_count": null,
      "outputs": []
    },
    {
      "cell_type": "markdown",
      "source": [
        "The above code split all dataset to 20% & 80%\n",
        "\n",
        "<img src=\"https://github.com/slt666666/FAO_lecture/blob/main/simulation14.png?raw=true\" alt=\"colab\" height=\"200px\">\n",
        "\n",
        "You can check the splitted genotype & phenotype data using below code."
      ],
      "metadata": {
        "id": "atBiSMHpmMFa"
      }
    },
    {
      "cell_type": "code",
      "source": [
        "# show test data\n",
        "display(test_phenotype)\n",
        "# show training data\n",
        "display(train_phenotype)"
      ],
      "metadata": {
        "id": "7HhOImuXmkxI"
      },
      "execution_count": null,
      "outputs": []
    },
    {
      "cell_type": "markdown",
      "source": [
        "## Make prediction model\n",
        "\n",
        "After splitting dataset,\n",
        "\n",
        "Using training dataset (80%), make genomic prediction model that explain phenotype from genotype.\n",
        "\n",
        "<img src=\"https://github.com/slt666666/FAO_lecture/blob/main/simulation15.png?raw=true\" alt=\"colab\" height=\"200px\">\n",
        "\n",
        "The below code generate prediction model.\n",
        "\n",
        "(we skipped explanation of details of the model in this lecture.)"
      ],
      "metadata": {
        "id": "vsj2Nq48Bkxo"
      }
    },
    {
      "cell_type": "code",
      "source": [
        "LW_prediction_model = make_genomic_prediction_model(train_genotype, train_phenotype, \"LW_mean\")"
      ],
      "metadata": {
        "id": "14Q1rH_MBk6Z"
      },
      "execution_count": null,
      "outputs": []
    },
    {
      "cell_type": "markdown",
      "source": [
        "## Predict phenotype of test data\n",
        "\n",
        "After generating prediction model, we check the performance (accuracy) of the model.\n",
        "\n",
        "To check accuracy, we used test data that is not untouched data to make model.\n",
        "\n",
        "<img src=\"https://github.com/slt666666/FAO_lecture/blob/main/simulation16.png?raw=true\" alt=\"colab\" height=\"200px\">\n",
        "\n",
        "At first, we predict phenotype values from genotype using generated model.\n",
        "\n",
        "Then, compare predicted values with observed values.\n",
        "\n",
        "If these values showed similarity, the model has robustness."
      ],
      "metadata": {
        "id": "RuyDyg8ZBlCG"
      }
    },
    {
      "cell_type": "code",
      "source": [
        "predicted_test_phenotype = predict_phenotype(test_genotype, LW_prediction_model)"
      ],
      "metadata": {
        "id": "xSCHoqKIBlKp"
      },
      "execution_count": null,
      "outputs": []
    },
    {
      "cell_type": "markdown",
      "source": [
        "The above code predict phenotypes from genotype using the generated model.\n",
        "\n",
        "You can check the predicted values by below code."
      ],
      "metadata": {
        "id": "2KNnNjCZvFd4"
      }
    },
    {
      "cell_type": "code",
      "source": [
        "predicted_test_phenotype"
      ],
      "metadata": {
        "id": "iwMCdz23vQEN"
      },
      "execution_count": null,
      "outputs": []
    },
    {
      "cell_type": "markdown",
      "source": [
        "## Compare predicted phenotype & observed phenotype\n",
        "\n",
        "After predicted phenotype values of test data, we compare predicted phenotype values with observed phenotype values.\n",
        "\n",
        "Here, we used correlation coefficient between them to check the accuracy."
      ],
      "metadata": {
        "id": "HxlE97z0BlTk"
      }
    },
    {
      "cell_type": "code",
      "source": [
        "check_accuracy(predicted_test_phenotype, test_phenotype, \"LW_mean\")"
      ],
      "metadata": {
        "id": "-3_SALNJBli7"
      },
      "execution_count": null,
      "outputs": []
    },
    {
      "cell_type": "markdown",
      "source": [
        "Above code calculate a correlation coefficient value and generate scatter plot of predicted & observed values.\n",
        "\n",
        "Correlation coefficient is over 0.85, so the generated model looks good."
      ],
      "metadata": {
        "id": "6jRNI69HLvz7"
      }
    },
    {
      "cell_type": "markdown",
      "source": [
        "## For Grain number\n",
        "\n",
        "try to make genomic prediction model for grain number.\n"
      ],
      "metadata": {
        "id": "XeuzaMBM6ndf"
      }
    },
    {
      "cell_type": "code",
      "source": [
        ""
      ],
      "metadata": {
        "id": "JBo51dn66m7b"
      },
      "execution_count": null,
      "outputs": []
    },
    {
      "cell_type": "markdown",
      "source": [
        "# Applying genomic prediction model to breeding strategy\n",
        "\n",
        "In this section, we try to apply generated models to breeding startegy.\n",
        "\n",
        "We'll try to predict phenotypes of progenies generated by crossing 2 cultivars.\n",
        "\n",
        "We'll also try to construct ideal genotype for the trait."
      ],
      "metadata": {
        "id": "WAI2X2qTBlre"
      }
    },
    {
      "cell_type": "markdown",
      "source": [
        "## Consider which combination of cultivars is best to cross to get high phenotype progenies."
      ],
      "metadata": {
        "id": "buzjQQDUB6b2"
      }
    },
    {
      "cell_type": "markdown",
      "source": [
        "### make simulation data"
      ],
      "metadata": {
        "id": "bQLKV6Y7LzeN"
      }
    },
    {
      "cell_type": "code",
      "source": [
        ""
      ],
      "metadata": {
        "id": "VivSZIaSCA09"
      },
      "execution_count": null,
      "outputs": []
    },
    {
      "cell_type": "markdown",
      "source": [
        "### predict phenotypes of simulation data"
      ],
      "metadata": {
        "id": "bbdA96-kL1Mt"
      }
    },
    {
      "cell_type": "code",
      "source": [
        ""
      ],
      "metadata": {
        "id": "Vt9D8xn2L5a4"
      },
      "execution_count": null,
      "outputs": []
    },
    {
      "cell_type": "markdown",
      "source": [
        "### check distribution of simulated data"
      ],
      "metadata": {
        "id": "xKM5xqiWL6-G"
      }
    },
    {
      "cell_type": "code",
      "source": [
        ""
      ],
      "metadata": {
        "id": "NSy9r2p4L7N7"
      },
      "execution_count": null,
      "outputs": []
    },
    {
      "cell_type": "markdown",
      "source": [
        "## Consider best genotype for traits"
      ],
      "metadata": {
        "id": "Z6yyI5M3CAQ3"
      }
    },
    {
      "cell_type": "markdown",
      "source": [
        "### check estimated SNP effect"
      ],
      "metadata": {
        "id": "zem5AgtRMBCx"
      }
    },
    {
      "cell_type": "code",
      "source": [
        "show_estimated_SNP_effect(prediction_model)"
      ],
      "metadata": {
        "id": "gDVTkCDsCE3y"
      },
      "execution_count": null,
      "outputs": []
    },
    {
      "cell_type": "markdown",
      "source": [
        "### make customized genotype"
      ],
      "metadata": {
        "id": "efOCS7T2MG8F"
      }
    },
    {
      "cell_type": "code",
      "source": [
        "make_customized_genotype()"
      ],
      "metadata": {
        "id": "8TVxL8rMMLoJ"
      },
      "execution_count": null,
      "outputs": []
    },
    {
      "cell_type": "markdown",
      "source": [
        "### predict phenotypes of customized genotype"
      ],
      "metadata": {
        "id": "EUxLdTfrMMhj"
      }
    },
    {
      "cell_type": "code",
      "source": [
        "predict_phenotype(customized_genotype, prediction_model)"
      ],
      "metadata": {
        "id": "LbNytIbZMTbo"
      },
      "execution_count": null,
      "outputs": []
    },
    {
      "cell_type": "markdown",
      "source": [
        ""
      ],
      "metadata": {
        "id": "drM9isy8MSRp"
      }
    },
    {
      "cell_type": "markdown",
      "metadata": {
        "id": "PFTQIMDGuYAT"
      },
      "source": [
        "---\n",
        "## Summary\n",
        "\n",
        "In this notebook, we demonstrate **MutMap** analysis using simulation data & published sample data.\n",
        "\n",
        "This data is small dataset (only chromosome10, just 272 SNPs).\n",
        "   \n",
        "You can use the pipeline that our lab developped for bigger data (like few million lines...etc)\n",
        "(https://github.com/YuSugihara/MutMap)\n",
        "   \n",
        "Tomorrow, we'll demonstrate **QTL-seq** analysis & **Sliding window** analysis for MutMap & QTL-seq to identify causative genes.\n",
        "\n"
      ]
    }
  ]
}