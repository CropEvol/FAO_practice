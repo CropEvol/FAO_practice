{
  "nbformat": 4,
  "nbformat_minor": 0,
  "metadata": {
    "colab": {
      "name": "GenomicPrediction.ipynb",
      "provenance": [],
      "collapsed_sections": [],
      "toc_visible": true
    },
    "kernelspec": {
      "name": "python3",
      "display_name": "Python 3"
    },
    "gpuClass": "standard"
  },
  "cells": [
    {
      "cell_type": "markdown",
      "metadata": {
        "id": "vFnKcfhjYcjf"
      },
      "source": [
        "<img src=\"https://github.com/slt666666/FAO_lecture/blob/main/title.png?raw=true\" alt=\"title\" height=\"300px\">\n"
      ]
    },
    {
      "cell_type": "markdown",
      "metadata": {
        "id": "31NfnQcvPDoY"
      },
      "source": [
        "# Genomic Prediction - example -\n",
        "\n",
        "In this notebook, we will perform Genomic Prediction analysis using sample data.\n",
        "\n",
        "And we will experience the application of genomic prediction model in breeding strategy\n",
        "\n",
        "It may help you to understand ...\n",
        "\n",
        "* the process of Genomic Prediction analysis\n",
        "\n",
        "* how to use genomic prediction model in breeding"
      ]
    },
    {
      "cell_type": "markdown",
      "source": [
        "## The contents in this notebook ... \n",
        "\n",
        "* Review of Genomic Prediction\n",
        "\n",
        "* Genomic prediction model using sample dataset\n",
        "\n",
        "  * We use rice population & grain number phenotype.\n",
        "\n",
        "* Application of genomic prediction model\n",
        "\n",
        "  * We will consider ideal genotype for grain number"
      ],
      "metadata": {
        "id": "wZpUAKrgmHnm"
      }
    },
    {
      "cell_type": "markdown",
      "source": [
        "# Main contents"
      ],
      "metadata": {
        "id": "pYgp_cqzl-pM"
      }
    },
    {
      "cell_type": "markdown",
      "source": [
        "# Review of Genomic Prediction\n",
        "\n",
        "Genomic prediction is to generate prediction model that explain phenotype by genotype using big dataset.\n",
        "\n",
        "<img src=\"https://github.com/slt666666/FAO_lecture/blob/main/genomic_prediction.png?raw=true\" alt=\"colab\" height=\"300px\">\n",
        "\n",
        "The process to generate genomic prediction model & check performance of the model is ...\n",
        "\n",
        "1. Separate all data to 80%(training data) & 20%(test data).\n",
        "\n",
        "2. Make prediction model using training data. (we use ElasticNet regression model in this notebook)\n",
        "\n",
        "3. Predict phenotype of test data **from genotype** by generated model\n",
        "\n",
        "4. Compare predicted phenotype & observed phenotype to check performance of the model\n",
        "\n",
        "<img src=\"https://github.com/slt666666/FAO_lecture/blob/main/gpmethod.png?raw=true\" alt=\"colab\" height=\"400px\">\n",
        "\n",
        "After generating good genomic prediction model,\n",
        "\n",
        "we can apply the model to improve breeding strategy.\n",
        "\n",
        "<img src=\"https://github.com/slt666666/FAO_lecture/blob/main/apply_model.png?raw=true\" alt=\"colab\" height=\"600px\">\n",
        "\n"
      ],
      "metadata": {
        "id": "F4tPUz-Y9TgH"
      }
    },
    {
      "cell_type": "markdown",
      "source": [
        "# Experience Genomic Prediction\n",
        "In this notebook, we try to make genomic prediction model and apply it to the genomic breeding."
      ],
      "metadata": {
        "id": "Xt6EApFB9zM2"
      }
    },
    {
      "cell_type": "code",
      "source": [
        "# Prepare modules & packages\n",
        "!wget -O genomic_prediction.py https://github.com/slt666666/FAO_lecture/blob/main/genomic_prediction.py?raw=true\n",
        "\n",
        "from genomic_prediction import load_dataset\n",
        "from genomic_prediction import split_dataset\n",
        "from genomic_prediction import make_genomic_prediction_model\n",
        "from genomic_prediction import check_equation\n",
        "from genomic_prediction import predict_phenotype\n",
        "from genomic_prediction import check_accuracy\n",
        "from genomic_prediction import show_estimated_SNP_effect\n",
        "from genomic_prediction import predict_progeny_phenotype\n",
        "from genomic_prediction import predict_customized_genotype"
      ],
      "metadata": {
        "id": "SrpHtwtSwcNi"
      },
      "execution_count": null,
      "outputs": []
    },
    {
      "cell_type": "markdown",
      "source": [
        "## Materials\n",
        "\n",
        "We generated NAM population by crossing rice cultivar A and 5 other cultivars (B~F).\n",
        "\n",
        "<img src=\"https://github.com/slt666666/FAO_lecture/blob/main/nam.png?raw=true\" alt=\"colab\" height=\"300px\">\n",
        "\n",
        "Then, we perform sequencing & phenotyping for this population.\n",
        "\n",
        "<img src=\"https://github.com/slt666666/FAO_lecture/blob/main/genopheno.png?raw=true\" alt=\"colab\" height=\"300px\">\n",
        "\n",
        "Please run the below code to load dataset !!\n",
        "\n",
        "The dataset contains almost 1000 lines.\n",
        "\n",
        "- SNP genotype (0 = cultivar A, 2 = other cultivar)\n",
        "- Phenotypes: Leaf width(LW_mean) & Grain number(GN_mean)"
      ],
      "metadata": {
        "id": "KF6GfH3MNxlq"
      }
    },
    {
      "cell_type": "code",
      "source": [
        "genotype, phenotype = load_dataset()\n",
        "display(genotype)\n",
        "display(phenotype)"
      ],
      "metadata": {
        "id": "jCmpDUgJLDBt"
      },
      "execution_count": null,
      "outputs": []
    },
    {
      "cell_type": "markdown",
      "source": [
        "## 1.Separate dataset\n",
        "\n",
        "At first, we'll split all dataset to training data and test data.\n",
        "\n",
        "* Training data(80%) ... for making prediction model.\n",
        "\n",
        "* Test data(20%) ... for checking performance of model\n",
        "\n",
        "Please run the below code to split datase !!"
      ],
      "metadata": {
        "id": "I3fT-bcDWsEx"
      }
    },
    {
      "cell_type": "code",
      "source": [
        "test_genotype, test_phenotype, train_genotype, train_phenotype = split_dataset(genotype, phenotype, \"GN_mean\", test=0.2)\n",
        "print(\"test data is {} lines.\".format(test_phenotype.shape[0]))\n",
        "print(\"training data is {} lines.\".format(train_phenotype.shape[0]))"
      ],
      "metadata": {
        "id": "4v1TBnKxBkoq"
      },
      "execution_count": null,
      "outputs": []
    },
    {
      "cell_type": "markdown",
      "source": [
        "## 2. Make prediction model\n",
        "\n",
        "After splitting dataset,\n",
        "\n",
        "Base on training dataset (80%), we'll make genomic prediction model that explain phenotype from genotype.\n",
        "\n",
        "<img src=\"https://github.com/slt666666/FAO_lecture/blob/main/simulation15.png?raw=true\" alt=\"colab\" height=\"200px\">\n",
        "\n",
        "Please run the below code to generate a prediction model.\n",
        "\n",
        "```\n",
        "※ Memo\n",
        "In this notebook, we used regression model (ElasticNet) to make prediction model.\n",
        "But we skipped explanation of details of the model in this lecture because it's not statistics lecture.\n",
        "```"
      ],
      "metadata": {
        "id": "vsj2Nq48Bkxo"
      }
    },
    {
      "cell_type": "code",
      "source": [
        "GN_prediction_model = make_genomic_prediction_model(train_genotype, train_phenotype, \"GN_mean\")\n",
        "check_equation(\"GN_mean\", GN_prediction_model)"
      ],
      "metadata": {
        "id": "14Q1rH_MBk6Z"
      },
      "execution_count": null,
      "outputs": []
    },
    {
      "cell_type": "markdown",
      "source": [
        "## 3. Predict phenotype of test data\n",
        "\n",
        "After generating prediction model, we have to check the performance (accuracy) of the model.\n",
        "\n",
        "To check accuracy, we used test data that is untouched data to make model.\n",
        "\n",
        "<img src=\"https://github.com/slt666666/FAO_lecture/blob/main/simulation16.png?raw=true\" alt=\"colab\" height=\"200px\">\n",
        "\n",
        "At first, we predict phenotype values from genotype using generated model.\n",
        "\n",
        "Then, compare predicted values with observed values.\n",
        "\n",
        "If these values are very similar, the model is robust.\n",
        "\n",
        "Please run the below code to predict phenotype values of test data, and compare predicted values and observed values !!"
      ],
      "metadata": {
        "id": "RuyDyg8ZBlCG"
      }
    },
    {
      "cell_type": "code",
      "source": [
        "predicted_test_phenotype = predict_phenotype(test_genotype, GN_prediction_model)\n",
        "check_accuracy(predicted_test_phenotype, test_phenotype, \"GN_mean\")"
      ],
      "metadata": {
        "id": "xSCHoqKIBlKp"
      },
      "execution_count": null,
      "outputs": []
    },
    {
      "cell_type": "markdown",
      "source": [
        "Above code calculate a correlation coefficient value and generate scatter plot of predicted & observed values.\n",
        "\n",
        "Correlation coefficient is over 0.85, so the generated model looks good."
      ],
      "metadata": {
        "id": "6jRNI69HLvz7"
      }
    },
    {
      "cell_type": "markdown",
      "source": [
        "# Applying genomic prediction model to breeding strategy\n",
        "\n",
        "In this section, we try to apply generated models to breeding startegy."
      ],
      "metadata": {
        "id": "WAI2X2qTBlre"
      }
    },
    {
      "cell_type": "markdown",
      "source": [
        "## Consider best genotype for traits\n",
        "\n",
        "If we can generate highly accurate genomic prediction model, we can consider what genotype is ideal for traits based on the model.\n",
        "\n",
        "<img src=\"https://github.com/slt666666/FAO_lecture/blob/main/simulation18.png?raw=true\" alt=\"colab\" height=\"200px\">\n",
        "\n",
        "So, in this section, Let's try to construct good genotype for Grain number."
      ],
      "metadata": {
        "id": "Z6yyI5M3CAQ3"
      }
    },
    {
      "cell_type": "markdown",
      "source": [
        "### Make customized genotype & predict phenotype\n",
        "\n",
        "For example, if we introgressed mutations in chromosome 1 & 5 to the cultivar A, how does phenotype change?\n",
        "\n",
        "We can predict this phenotype by genomic prediction model.\n",
        "\n",
        "Please run the below code to check phenotypic changes by the genotype !!"
      ],
      "metadata": {
        "id": "efOCS7T2MG8F"
      }
    },
    {
      "cell_type": "code",
      "source": [
        "predict_customized_genotype(genotype, [\"chr01\", \"chr05\"], GN_prediction_model, \"GN_mean\")"
      ],
      "metadata": {
        "id": "8TVxL8rMMLoJ"
      },
      "execution_count": null,
      "outputs": []
    },
    {
      "cell_type": "markdown",
      "source": [
        "Like above simulation, we can predict phenotype values of any genotypes.\n",
        "\n",
        "From this approach, we can identify best genotype for traits!\n",
        "\n",
        "<img src=\"https://github.com/slt666666/FAO_lecture/blob/main/simulation19.png?raw=true\" alt=\"colab\" height=\"200px\">"
      ],
      "metadata": {
        "id": "b_02WquJhH-3"
      }
    },
    {
      "cell_type": "markdown",
      "source": [
        "### Play with prediction!\n",
        "Try to find best genotype by editing chromosome genotype.\n",
        "You can edit below code & run.\n",
        "\n",
        "ex) \n",
        "\n",
        "* If you wanna change genotype of chromosome 12\n",
        "\n",
        "`predict_customized_genotype(genotype, [\"chr12\"], GN_prediction_model, \"GN_mean\")`\n",
        "\n",
        "* If you wanna change genotype of chromosome 1, 7, and 12\n",
        "\n",
        "`predict_customized_genotype(genotype, [\"chr01\", \"chr07\", \"chr12\"], GN_prediction_model, \"GN_mean\")`\n",
        "\n",
        "* If you wanna change genotype of chromosome 1, 2, 3, and 4\n",
        "\n",
        "`predict_customized_genotype(genotype, [\"chr01\", \"chr02\", \"chr03\", \"chr04\"], GN_prediction_model, \"GN_mean\")`\n",
        "\n",
        "\n",
        "Please use below code and try to find best genotype for grain number !!!"
      ],
      "metadata": {
        "id": "Zp7LA-q_crpf"
      }
    },
    {
      "cell_type": "code",
      "source": [
        "predict_customized_genotype(genotype, [\"chr01\", \"chr02\", \"chr03\", \"chr04\"], GN_prediction_model, \"GN_mean\")"
      ],
      "metadata": {
        "id": "XWxT4IK0c9Zz"
      },
      "execution_count": null,
      "outputs": []
    },
    {
      "cell_type": "markdown",
      "source": [
        "This simulation study is editing genotype of chromosome level.\n",
        "\n",
        "But of course, we can also consider regional level/gene level.\n",
        "\n",
        "And we should consider the aspect that what materials(cultivars/genotypes) can we use to consider ideal & feasible genotype."
      ],
      "metadata": {
        "id": "UBqYcrUFhz38"
      }
    },
    {
      "cell_type": "markdown",
      "metadata": {
        "id": "PFTQIMDGuYAT"
      },
      "source": [
        "---\n",
        "## Summary\n",
        "\n",
        "In this notebook, we demonstrate **Genomic Prediction** analysis using unpublished data.\n",
        "\n",
        "You can predict phenotypes from genotype information by genomic prediction model.\n",
        "\n",
        "Thus, you can calculate the best combination to generate new cultivars.\n",
        "\n",
        "Also, you can find out the ideal genotype for traits.\n",
        "   \n",
        "If you can generate good population which has high genetic variaty, genomic prediction approach is one of the approaches to achieve generating high-yield cultivar.\n",
        "\n"
      ]
    },
    {
      "cell_type": "code",
      "source": [
        ""
      ],
      "metadata": {
        "id": "K9sGe7-I3EcN"
      },
      "execution_count": null,
      "outputs": []
    }
  ]
}