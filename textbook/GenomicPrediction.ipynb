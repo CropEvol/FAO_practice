{
  "nbformat": 4,
  "nbformat_minor": 0,
  "metadata": {
    "colab": {
      "name": "GenomicPrediction.ipynb",
      "provenance": [],
      "collapsed_sections": [],
      "toc_visible": true
    },
    "kernelspec": {
      "name": "python3",
      "display_name": "Python 3"
    },
    "gpuClass": "standard"
  },
  "cells": [
    {
      "cell_type": "markdown",
      "metadata": {
        "id": "vFnKcfhjYcjf"
      },
      "source": [
        "<img src=\"https://github.com/slt666666/FAO_lecture/blob/main/title.png?raw=true\" alt=\"title\" height=\"300px\">\n"
      ]
    },
    {
      "cell_type": "markdown",
      "metadata": {
        "id": "31NfnQcvPDoY"
      },
      "source": [
        "# Genomic Prediction - example -\n",
        "\n",
        "In this notebook, we will perform Genomic Prediction analysis using sample data.\n",
        "\n",
        "And we will experience the application of genomic prediction model in breeding strategy\n",
        "\n",
        "It may help you to understand ...\n",
        "\n",
        "* the process of Genomic Prediction analysis\n",
        "\n",
        "* how to use genomic prediction model in breeding"
      ]
    },
    {
      "cell_type": "markdown",
      "source": [
        "## The contents in this notebook ... \n",
        "\n",
        "* Review of Genomic Prediction\n",
        "\n",
        "* Genomic prediction model using sample dataset\n",
        "\n",
        "  * We use rice population & grain number phenotype.\n",
        "\n",
        "* Application of genomic prediction model\n",
        "\n",
        "  * We will consider good genotype for grain number"
      ],
      "metadata": {
        "id": "wZpUAKrgmHnm"
      }
    },
    {
      "cell_type": "markdown",
      "source": [
        "# Main contents"
      ],
      "metadata": {
        "id": "pYgp_cqzl-pM"
      }
    },
    {
      "cell_type": "markdown",
      "source": [
        "# Review of Genomic Prediction\n",
        "\n",
        "Genomic prediction is to generate prediction model that explain phenotype by genotype using big dataset.\n",
        "\n",
        "<img src=\"https://github.com/slt666666/FAO_lecture/blob/main/genomic_prediction.png?raw=true\" alt=\"colab\" height=\"300px\">\n",
        "\n"
      ],
      "metadata": {
        "id": "F4tPUz-Y9TgH"
      }
    },
    {
      "cell_type": "markdown",
      "source": [
        "# Experience Genomic Prediction\n",
        "In this notebook, we try to use genomic prediction model to consider good genotype for Grain number."
      ],
      "metadata": {
        "id": "Xt6EApFB9zM2"
      }
    },
    {
      "cell_type": "code",
      "source": [
        "# Prepare modules & packages\n",
        "!wget -O genomic_prediction.py https://github.com/slt666666/FAO_lecture/blob/main/genomic_prediction.py?raw=true\n",
        "import warnings\n",
        "warnings.filterwarnings('ignore')\n",
        "from genomic_prediction import load_dataset\n",
        "from genomic_prediction import split_dataset\n",
        "from genomic_prediction import make_genomic_prediction_model\n",
        "from genomic_prediction import check_equation\n",
        "from genomic_prediction import predict_phenotype\n",
        "from genomic_prediction import check_accuracy\n",
        "from genomic_prediction import show_estimated_SNP_effect\n",
        "from genomic_prediction import predict_progeny_phenotype\n",
        "from genomic_prediction import predict_customized_genotype"
      ],
      "metadata": {
        "id": "SrpHtwtSwcNi"
      },
      "execution_count": null,
      "outputs": []
    },
    {
      "cell_type": "markdown",
      "source": [
        "## Materials\n",
        "\n",
        "We generated RIL population by crossing rice cultivar Hitomebore and rice cultivar X.\n",
        "\n",
        "(This is unpublished data, so I hide cultivar name.)\n",
        "\n",
        "<img src=\"https://github.com/slt666666/FAO_lecture/blob/main/nam.png?raw=true\" alt=\"colab\" height=\"300px\">\n",
        "\n",
        "Then, we performed NGS sequencing & phenotyping for this population.\n",
        "\n",
        "<img src=\"https://github.com/slt666666/FAO_lecture/blob/main/genopheno.png?raw=true\" alt=\"colab\" height=\"300px\">\n",
        "\n",
        "Please run the below code to load dataset !!\n",
        "\n",
        "The dataset contains almost 1000 lines.\n",
        "\n",
        "- SNP genotype (0 = Hitomebore genotype, 2 = Cultivar X genotype, 1 = Heterozygous)\n",
        "- Phenotypes: Grain number (GN_mean)\n"
      ],
      "metadata": {
        "id": "KF6GfH3MNxlq"
      }
    },
    {
      "cell_type": "code",
      "source": [
        "genotype, phenotype = load_dataset()\n",
        "display(genotype)\n",
        "display(phenotype)"
      ],
      "metadata": {
        "id": "jCmpDUgJLDBt"
      },
      "execution_count": null,
      "outputs": []
    },
    {
      "cell_type": "markdown",
      "source": [
        "## Make Genomic prediction model\n",
        "\n",
        "Using genotype & phenotype dataset, we generated genomic prediction model.\n",
        "\n",
        "<img src=\"https://github.com/slt666666/FAO_lecture/blob/main/gpmethod.png?raw=true\" alt=\"colab\" height=\"300px\">\n",
        "\n",
        "Please run the below code to make genomic prediction model!\n",
        "\n",
        "Below code perform all process to generate model & check accuracy."
      ],
      "metadata": {
        "id": "I3fT-bcDWsEx"
      }
    },
    {
      "cell_type": "code",
      "source": [
        "test_genotype, test_phenotype, train_genotype, train_phenotype = split_dataset(genotype, phenotype, \"GN_mean\", test=0.2)\n",
        "GN_prediction_model = make_genomic_prediction_model(train_genotype, train_phenotype, \"GN_mean\")\n",
        "print(\"\\nPrediction model is ...\")\n",
        "print(check_equation(\"GN_mean\", GN_prediction_model), \"\\n\")\n",
        "predicted_test_phenotype = predict_phenotype(test_genotype, GN_prediction_model)\n",
        "print(\"And the accuracy of the prediction model by test data is ...\")\n",
        "check_accuracy(predicted_test_phenotype, test_phenotype, \"GN_mean\")"
      ],
      "metadata": {
        "id": "4v1TBnKxBkoq"
      },
      "execution_count": null,
      "outputs": []
    },
    {
      "cell_type": "markdown",
      "source": [
        "# Applying genomic prediction model to breeding strategy\n",
        "\n",
        "In this section, we try to apply generated models to breeding startegy."
      ],
      "metadata": {
        "id": "WAI2X2qTBlre"
      }
    },
    {
      "cell_type": "markdown",
      "source": [
        "## Consider good genotype for traits\n",
        "\n",
        "If we can generate highly accurate genomic prediction model, we can consider what genotype is ideal for traits based on the model.\n",
        "\n",
        "<img src=\"https://github.com/slt666666/FAO_lecture/blob/main/simulation18.png?raw=true\" alt=\"colab\" height=\"200px\">\n",
        "\n",
        "So, in this section, Let's try to construct good genotype for Grain number."
      ],
      "metadata": {
        "id": "Z6yyI5M3CAQ3"
      }
    },
    {
      "cell_type": "markdown",
      "source": [
        "### Make customized genotype & predict phenotype\n",
        "\n",
        "For example, if we introgressed cutivar X genotype to the Hitomebore cultivar in chromosome 1,\n",
        "how does phenotype change?\n",
        "\n",
        "<img src=\"https://github.com/slt666666/FAO_lecture/blob/main/pred_new.png?raw=true\" alt=\"colab\" height=\"300px\">\n",
        "\n",
        "We can predict this phenotype by genomic prediction model.\n",
        "\n",
        "Please run the below code to check phenotype by the genotype !!"
      ],
      "metadata": {
        "id": "efOCS7T2MG8F"
      }
    },
    {
      "cell_type": "code",
      "source": [
        "change_chr = ['chr01']\n",
        "predict_customized_genotype(genotype, change_chr, GN_prediction_model)"
      ],
      "metadata": {
        "id": "8TVxL8rMMLoJ"
      },
      "execution_count": null,
      "outputs": []
    },
    {
      "cell_type": "markdown",
      "source": [
        "### Play with prediction!\n",
        "Try to find best genotype by editing genotype of chromosomes.\n",
        "You can edit below code & run.\n",
        "\n",
        "ex) \n",
        "\n",
        "* If you wanna change genotype of chromosome 12\n",
        "\n",
        "`change_chr = ['chr12']`\n",
        "\n",
        "* If you wanna change genotype of chromosome 1, 7, and 12\n",
        "\n",
        "`change_chr = ['chr01', 'chr07', 'chr12']`\n",
        "\n",
        "* If you wanna change genotype of chromosome 1, 2, 3, 4, 5, 6, 7\n",
        "\n",
        "`change_chr = ['chr01', 'chr02', 'chr03', 'chr04', 'chr05', 'chr06', 'chr07']`"
      ],
      "metadata": {
        "id": "Zp7LA-q_crpf"
      }
    },
    {
      "cell_type": "code",
      "source": [
        "change_chr = ['chr01', 'chr02', 'chr03', 'chr04']\n",
        "predict_customized_genotype(genotype, change_chr, GN_prediction_model)"
      ],
      "metadata": {
        "id": "XWxT4IK0c9Zz"
      },
      "execution_count": null,
      "outputs": []
    },
    {
      "cell_type": "markdown",
      "source": [
        "This simulation study is editing genotype of chromosome level.\n",
        "\n",
        "But of course, we can also consider regional level/gene level.\n",
        "\n",
        "From this approach, we can identify best genotype for traits!\n",
        "\n",
        "<img src=\"https://github.com/slt666666/FAO_lecture/blob/main/simulation19.png?raw=true\" alt=\"colab\" height=\"200px\">"
      ],
      "metadata": {
        "id": "UBqYcrUFhz38"
      }
    },
    {
      "cell_type": "markdown",
      "metadata": {
        "id": "PFTQIMDGuYAT"
      },
      "source": [
        "---\n",
        "## Summary\n",
        "\n",
        "In this notebook, we play with **Genomic Prediction** analysis using unpublished data.\n",
        "\n",
        "You can predict phenotypes from genotype information by genomic prediction model.\n",
        "\n",
        "Thus, you can find out the ideal genotype for traits.\n",
        "   \n",
        "If you can generate good population which has high genetic variaty, genomic prediction approach is one of the approaches to achieve generating high-yield cultivar.\n",
        "\n"
      ]
    },
    {
      "cell_type": "code",
      "source": [
        ""
      ],
      "metadata": {
        "id": "qZnCziD1np5v"
      },
      "execution_count": null,
      "outputs": []
    }
  ]
}