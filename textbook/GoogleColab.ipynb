{
  "nbformat": 4,
  "nbformat_minor": 0,
  "metadata": {
    "colab": {
      "provenance": [],
      "toc_visible": true
    },
    "kernelspec": {
      "name": "python3",
      "display_name": "Python 3"
    }
  },
  "cells": [
    {
      "cell_type": "markdown",
      "metadata": {
        "id": "vFnKcfhjYcjf"
      },
      "source": [
        "<img src=\"https://github.com/slt666666/FAO_lecture/blob/main/FAO_2024/title.png?raw=true\" alt=\"title\" height=\"250px\">\n"
      ]
    },
    {
      "cell_type": "markdown",
      "metadata": {
        "id": "31NfnQcvPDoY"
      },
      "source": [
        "# Google Colaboratory\n",
        "\n",
        "In this training course, we will practice\n",
        "* Mut-Map analysis (May 1st)\n",
        "* QTL-seq analysis (May 1st)\n",
        "* Genomic Prediction (May 3rd)\n",
        "\n",
        "To practice these analysis, we have to use some programs and bioinformatics tools.\n",
        "\n",
        "So, we plan to use **Google Colaboratory** as a common platform to run these programs/tools.\n",
        "\n",
        "In this session, I'd like to introduce Google Colaboratory and how to use it.\n"
      ]
    },
    {
      "cell_type": "markdown",
      "source": [
        "# What is Google Colab (What is this platform)\n",
        "\n",
        "Google Colaboratory(Google Colab) is the web application that you can experience programming like Python or R.\n",
        "\n",
        "And Google Colab requires no setup to use and provides free access to computing resources.\n",
        "\n",
        "You can access to Google Colab server through web page and you can show, edit, and run the program on the Google server Colab server.\n",
        "\n",
        "In other words, you can run the programs in the Google Colab server through web browser such as Google Chrome.\n",
        "\n",
        "<img src=\"https://github.com/slt666666/FAO_lecture/blob/main/colab.png?raw=true\" alt=\"colab\" height=\"200px\">\n",
        "\n",
        "So, you don't need to use your local PC to run the program!\n",
        "\n",
        "* × Running programs on local PC (your own PC) ... performance are different between everyone\n",
        "\n",
        "* 〇 Running programs on Google Colab ... everyone can use same performance environment\n",
        "\n",
        "So, we don't care about our own PC's spec and we don't need to set up our own PC.\n",
        "\n",
        "That's why oogle Colab is good tools for the education.\n",
        "\n",
        "## **Notebook**\n",
        "\n",
        "In the Google Colab, we call this web page is \"Notebook\".\n",
        "\n",
        "<img src=\"https://github.com/slt666666/FAO_lecture/blob/main/FAO_2024/Colab_0.png?raw=true\" alt=\"title\" height=\"300px\">\n",
        "\n",
        "We use this Notebook to edit/show/run the programs.\n",
        "\n",
        "In addition, **you can access and use the notebook that other people made.** ex) This notebook!\n",
        "\n",
        "<img src=\"https://github.com/slt666666/FAO_lecture/blob/main/FAO_2024/Colab_1.png?raw=true\" alt=\"title\" height=\"300px\">\n",
        "\n",
        "So, in this lecture, we prepared several notebooks, like\n",
        "\n",
        "* Notebook for MutMap anaylsis (upload May 1st).\n",
        "* Notebook for QTL-seq analysis (upload May 1st).\n",
        "* Notebook for Genomic Prediction analysis (upload May 3rd).\n",
        "\n",
        "We'll use these notebooks at the practice session for each subject.\n",
        "\n",
        "In summary, we can experience several analysis using Google Colab notebooks without setting of your own PC & without writing a program!\n",
        "\n",
        "**And we keep these notebooks in the server, so you can access these notebooks at any time even after this lecture**"
      ],
      "metadata": {
        "id": "F4tPUz-Y9TgH"
      }
    },
    {
      "cell_type": "markdown",
      "source": [
        "# How to use Google Colab\n",
        "\n",
        "## 1. Run python program\n",
        "\n",
        "Python is one of the programming language that is often used for data analysis etc.\n",
        "\n",
        "You can write and run the python program in the Notebook.\n",
        "\n",
        "For example, the below code shows very simple calculation.\n",
        "\n",
        "**You can run the program by Select code part and Click \"▶︎\" botton that is in the top left of the code cell.**\n",
        "\n",
        "<img src=\"https://github.com/slt666666/FAO_lecture/blob/main/FAO_2024/Colab_2.png?raw=true\" alt=\"title\" height=\"100px\" border=\"1\">\n",
        "\n",
        "Please try to run the below code.\n",
        "\n",
        "※At first time, maybe a warning message will appear, but it's not problem. You can proceed it."
      ],
      "metadata": {
        "id": "Xt6EApFB9zM2"
      }
    },
    {
      "cell_type": "code",
      "source": [
        "# This is Code cell\n",
        "\n",
        "11 + 100"
      ],
      "metadata": {
        "id": "LaqZN-Dy0wXM"
      },
      "execution_count": null,
      "outputs": []
    },
    {
      "cell_type": "markdown",
      "source": [
        "You can get the answer \"111\".\n",
        "\n",
        "And, if you edit the above code and run it again, it should return the recalculated answer.\n",
        "\n",
        "We call this code region as **code cell**.\n",
        "\n",
        "The entire code in the code cell will be executed by 1 click \"▶︎\" button.\n",
        "\n",
        "For example, the below 3 lines of code calculates cubed number of 0~9."
      ],
      "metadata": {
        "id": "mc27Y5aEj8aE"
      }
    },
    {
      "cell_type": "code",
      "source": [
        "for i in range(10):\n",
        "   ans = i*i*i\n",
        "   print(\"{}x{}x{} = \".format(i,i,i), ans)"
      ],
      "metadata": {
        "id": "Q7gms5XmVSL_"
      },
      "execution_count": null,
      "outputs": []
    },
    {
      "cell_type": "markdown",
      "source": [
        "Google colab can visualize dataset via python code.\n",
        "\n",
        "The below code generates example graph."
      ],
      "metadata": {
        "id": "TErXABBuy34X"
      }
    },
    {
      "cell_type": "code",
      "source": [
        "import numpy as np\n",
        "from matplotlib import pyplot as plt\n",
        "\n",
        "ys = 200 + np.random.randn(100)\n",
        "x = [x for x in range(len(ys))]\n",
        "\n",
        "plt.figure(figsize=(3,3))\n",
        "plt.plot(x, ys, '-')\n",
        "plt.fill_between(x, ys, 195, where=(ys > 195), facecolor='g', alpha=0.6)\n",
        "\n",
        "plt.title(\"Example graph\")\n",
        "plt.show()"
      ],
      "metadata": {
        "id": "ORo1V-6Rw8mm"
      },
      "execution_count": null,
      "outputs": []
    },
    {
      "cell_type": "markdown",
      "source": [
        "This is the basic usage to run the python code, **just select and click \"▶︎\" button.**\n",
        "\n",
        "### How to edit Python program\n",
        "\n",
        "Basically, we prepared most of codes for practice sessions in the notebook.\n",
        "\n",
        "But sometimes, we'll ask you to edit some part of codes.\n",
        "\n",
        "So, to practice editing code, we'll play with turtle graphics.\n",
        "\n",
        "Turtle graphics is the program that draws geometric figure.\n",
        "\n",
        "We can give instructions on what kind of line to draw using Python code.\n",
        "\n",
        "<img src=\"https://github.com/slt666666/FAO_lecture/blob/main/FAO_2024/Colab_07.png?raw=true\" alt=\"title\" height=\"250px\">\n",
        "\n",
        "At first, please run the below code to install Turtle Graphics."
      ],
      "metadata": {
        "id": "BA2LQgCBDbK7"
      }
    },
    {
      "cell_type": "code",
      "source": [
        "!pip3 install ColabTurtle"
      ],
      "metadata": {
        "id": "ya0xi2NrpMvQ"
      },
      "execution_count": null,
      "outputs": []
    },
    {
      "cell_type": "markdown",
      "source": [
        "Then, let's run the below code.\n",
        "\n",
        "The below code draws a line that bends vertically."
      ],
      "metadata": {
        "id": "OVxvExvC1jjY"
      }
    },
    {
      "cell_type": "code",
      "source": [
        "from ColabTurtle.Turtle import *\n",
        "initializeTurtle()\n",
        "\n",
        "forward(100)\n",
        "left(90)\n",
        "forward(100)"
      ],
      "metadata": {
        "id": "4zDMr2CLpQma"
      },
      "execution_count": null,
      "outputs": []
    },
    {
      "cell_type": "markdown",
      "source": [
        "The last 3 lines are the instruction.\n",
        "\n",
        "<img src=\"https://github.com/slt666666/FAO_lecture/blob/main/FAO_2024/Colab_06.png?raw=true\" alt=\"title\" height=\"200px\">\n",
        "\n",
        "In the above code, we give instructions to Turtle.\n",
        "\n",
        "1. `forward(100)` ... Send the turtle forward 100 steps\n",
        "2. `left(90)` ... Change the direction of the turtle that turns 90 degrees left.\n",
        "3. `forward(100)` ... Send the turtle forward 100 steps\n",
        "\n",
        "We can add movements by adding `forward(XXX)` or `left(XX)`.\n",
        "\n",
        "For example,"
      ],
      "metadata": {
        "id": "tcqWHuhD2qJK"
      }
    },
    {
      "cell_type": "code",
      "source": [
        "from ColabTurtle.Turtle import *\n",
        "initializeTurtle()\n",
        "forward(100)\n",
        "left(90)\n",
        "forward(100)"
      ],
      "metadata": {
        "id": "iRYD0YNM2q6S"
      },
      "execution_count": null,
      "outputs": []
    },
    {
      "cell_type": "markdown",
      "source": [
        "Let's try to add/remove some movements by editing below code! And draw nice figure !\n",
        "\n",
        "(We'll take some time.)\n",
        "\n",
        "- forward(XX) ... Send the turtle forward XX steps\n",
        "- left(YY) ... Change the direction of the turtle that turns YY degrees left."
      ],
      "metadata": {
        "id": "2DolOdE-JHa7"
      }
    },
    {
      "cell_type": "code",
      "source": [
        "from ColabTurtle.Turtle import *\n",
        "initializeTurtle()\n",
        "forward(100)\n",
        "left(90)\n",
        "forward(100)"
      ],
      "metadata": {
        "id": "2ldLDbMyJG6J"
      },
      "execution_count": null,
      "outputs": []
    },
    {
      "cell_type": "markdown",
      "source": [
        "This is how to add/edit Python codes."
      ],
      "metadata": {
        "id": "tlibNzF9xCAz"
      }
    },
    {
      "cell_type": "markdown",
      "source": [
        "## 2. Run bash command\n",
        "\n",
        "Now, we know how to run Python program in the Google Colab.\n",
        "\n",
        "In addition, we can use CUI(Character User Interface) tools in Google Colab.\n",
        "\n",
        "A CUI tool is a program that operates by entering commands on a terminal.\n",
        "\n",
        "(Not CUI tools are called GUI tools.)\n",
        "\n",
        "<img src=\"https://github.com/slt666666/FAO_lecture/blob/main/FAO_2024/Colab_3.png?raw=true\" alt=\"title\" height=\"300px\">\n",
        "\n",
        "<br>\n",
        "\n",
        "Computer operations, such as displaying a list of files,  creating files or folders, are performed by commands.\n",
        "\n",
        "In addition, **most Bioinformatics tools are CUI tools** and we have to use commands to invoke Bioinformatics tools.\n",
        "\n",
        "For example, we will analyze DNA sequencing data in the practice session.\n",
        "\n",
        "Most tools to analyze genome sequencing data is CUI tools.\n",
        "\n",
        "<img src=\"https://github.com/slt666666/FAO_lecture/blob/main/FAO_2024/Colab_4.png?raw=true\" alt=\"title\" height=\"200px\">\n",
        "\n",
        "\n",
        "In Google Colab, we can use not only Python programming, but also CUI tools.\n",
        "\n",
        "By writing an `%%bash` at the beginning of the code, that code cell will be executed as a command.\n",
        "\n",
        "For example, `seqkit` is the bioinformatics tools to treat sequence data.\n",
        "\n",
        "But this tool is **CUI tool.**\n",
        "\n",
        "So, when we use `seqkit` in the Google Colab, we should write like this ↓"
      ],
      "metadata": {
        "id": "BeFBT2XB97Ml"
      }
    },
    {
      "cell_type": "code",
      "source": [
        "%%bash\n",
        "\n",
        "apt install seqkit > /dev/null 2>&1 # install seqkit\n",
        "\n",
        "seqkit"
      ],
      "metadata": {
        "id": "iZNT7gbSFOJe"
      },
      "execution_count": null,
      "outputs": []
    },
    {
      "cell_type": "markdown",
      "source": [
        "**Juts I want you to remember, if `%%bash` is in the first line, this program is not Python program. It's command.**"
      ],
      "metadata": {
        "id": "d96O-8QcKJQz"
      }
    },
    {
      "cell_type": "markdown",
      "source": [
        "## 3. File system\n",
        "\n",
        "As I mentioned, we access to Google Colab server.\n",
        "\n",
        "<img src=\"https://github.com/slt666666/FAO_lecture/blob/main/colab.png?raw=true\" alt=\"colab\" height=\"150px\">\n",
        "\n",
        "We can check available files & folders in the server from the left folder menu.\n",
        "\n",
        "<img src=\"https://github.com/slt666666/FAO_lecture/blob/main/FAO_2024/Colab_05.png?raw=true\" alt=\"title\" height=\"150px\" border=\"1\">\n",
        "\n",
        "If necessary, you can upload a new dataset in this menu.\n",
        "\n",
        "And basically, the output of tools also saved in this folder.\n",
        "\n",
        "For example, the below command download sample data file of DNA sequence.\n",
        "\n"
      ],
      "metadata": {
        "id": "3HkLW5zYFkhu"
      }
    },
    {
      "cell_type": "code",
      "source": [
        "%%bash\n",
        "wget https://raw.githubusercontent.com/slt666666/FAO_lecture/main/FAO_2024/data/sample.fasta"
      ],
      "metadata": {
        "id": "ZFt3-w6zGSIx"
      },
      "execution_count": null,
      "outputs": []
    },
    {
      "cell_type": "markdown",
      "source": [
        "Maybe you can find `sample.fasta` in the left folder after running above code.\n",
        "\n",
        "(if not, please try to click update botton).\n",
        "\n",
        "Then, we try to translate this DNA sequence by `seqkit` tools."
      ],
      "metadata": {
        "id": "U2P1KjA03BBI"
      }
    },
    {
      "cell_type": "code",
      "source": [
        "%%bash\n",
        "seqkit translate sample.fasta > sample_amino_acid.fasta"
      ],
      "metadata": {
        "id": "f3q13S5R3RmX"
      },
      "execution_count": null,
      "outputs": []
    },
    {
      "cell_type": "markdown",
      "source": [
        "After running above command, maybe you can find sample_amino_acid.fasta in the left folder.\n",
        "\n",
        "(if not, please try to click update botton).\n",
        "\n",
        "<img src=\"https://github.com/slt666666/FAO_lecture/blob/main/FAO_2024/Colab_08.png?raw=true\" alt=\"title\" height=\"75px\">\n",
        "\n",
        "Like above example, **we can apply Bioinformatics tools to our own dataset.**"
      ],
      "metadata": {
        "id": "VTkkIjUc3gR6"
      }
    },
    {
      "cell_type": "markdown",
      "source": [
        "## 4. For the practice session\n",
        "\n",
        "In our practice session, we will perform Mut-map analysis, QTL-seq analysis, and Genomic Prediction analysis.\n",
        "\n",
        "Especially, we will be focusing on,\n",
        "- What situation should we use these analysis\n",
        "- What kind of data is required\n",
        "- What bioinformatics tools are required\n",
        "- How to understand output\n",
        "\n",
        "Unfortunately, we don't have much time to teach how to write programming code or detailed usage of tools.\n",
        "\n",
        "So, we will proceed with the practical training by having everyone use the programs and commands that we prepared.\n",
        "\n",
        "Sometimes I'll ask you to edit codes to understand these analysis.\n",
        "\n",
        "```\n",
        "※But, most of the tools are easily understood how to use by looking at their official pages,\n",
        "and our team has developed and released easy-to-use programs for the pipeline we will introduce here.\n",
        "```\n",
        "\n",
        "Totally, I've explained several complicated things,\n",
        "\n",
        "but if you understand that **programs/commands are running by click \"▶︎\" button** on the left of code cell, there's no problem!"
      ],
      "metadata": {
        "id": "dy3hoC4hFPQi"
      }
    },
    {
      "cell_type": "markdown",
      "source": [
        "In addition, I didn't explain much about Google Colab, but Googel Colab has a lot of useful functions such as visualization, environments for Statistical analysis, Machine Learning ... etc.\n",
        "\n",
        "You can check it here → https://colab.research.google.com/\n",
        "\n",
        "This is very useful computational resources for Data Science or Programming.\n",
        "\n",
        "So, if you are interested in these fields or Bioinformatics, we recommend that you study using it."
      ],
      "metadata": {
        "id": "YIFN36M-088W"
      }
    },
    {
      "cell_type": "markdown",
      "metadata": {
        "id": "PFTQIMDGuYAT"
      },
      "source": [
        "---\n",
        "## Summary\n",
        "\n",
        "In this notebook, we introduced basic knowledge of Google Colaboratory.\n",
        "   \n",
        "Day after tomorrow, we'll experience **Mut-map** analysis & **QTL-seq** analysis."
      ]
    }
  ]
}