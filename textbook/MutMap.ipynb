{
  "nbformat": 4,
  "nbformat_minor": 0,
  "metadata": {
    "colab": {
      "name": "MutMap.ipynb",
      "provenance": [],
      "collapsed_sections": [],
      "toc_visible": true
    },
    "kernelspec": {
      "name": "python3",
      "display_name": "Python 3"
    }
  },
  "cells": [
    {
      "cell_type": "markdown",
      "metadata": {
        "id": "vFnKcfhjYcjf"
      },
      "source": [
        "<img src=\"https://github.com/slt666666/FAO_lecture/blob/main/title.png?raw=true\" alt=\"title\" height=\"300px\">\n"
      ]
    },
    {
      "cell_type": "markdown",
      "metadata": {
        "id": "31NfnQcvPDoY"
      },
      "source": [
        "# MutMap - practice -\n",
        "\n",
        "We will perform MutMap analysis using simulation data & published data in this practice part.\n",
        "\n",
        "It may help you to understand ...\n",
        "* the process of MutMap analysis \n",
        "* How to interpret the results of MutMap\n",
        "* What data is required for MutMap"
      ]
    },
    {
      "cell_type": "markdown",
      "source": [
        "## The contents in this notebook ... \n",
        "\n",
        "* What is Google Colab (What is this platform)\n",
        "  * How to use Google Colab\n",
        "* Review of MutMap\n",
        "\n",
        "* 1st practice - MutMap analysis for simulation data -\n",
        "\n",
        "  * We assume very simple organism & perform MutMap analysis to understand the process of MutMap.\n",
        "* Introduction of MutMap pipeline (Github)\n",
        "\n",
        "* 2nd practice - MutMap analysis for published sample data -\n",
        "  * We use published data in MutMap paper [(Abe et al., 2012)](https://www.nature.com/articles/nbt.2095) & perform MutMap analysis."
      ],
      "metadata": {
        "id": "wZpUAKrgmHnm"
      }
    },
    {
      "cell_type": "markdown",
      "source": [
        "# Main contents"
      ],
      "metadata": {
        "id": "pYgp_cqzl-pM"
      }
    },
    {
      "cell_type": "markdown",
      "source": [
        "# What is Google Colab (What is this platform)\n",
        "\n",
        "Now, you access to the Google Colaboratory(Google Colab) server through web browser such as Google Chrome, FireFox, Safari...etc.\n",
        "\n",
        "Google Colab is the online service that you can show, edit, and run the program on the Google server (Colab server).\n",
        "\n",
        "So, you don't need to use your local PC to run the program!\n",
        "\n",
        "<img src=\"https://github.com/slt666666/FAO_lecture/blob/main/colab.png?raw=true\" alt=\"colab\" height=\"200px\">\n",
        "\n",
        "In the Google Colab, we call this page(file) is \"Notebook\". We use this Notebook to edit/show/run the programs.\n",
        "\n",
        "In addition, you can access and use the notebook that other people made.\n",
        "\n",
        "So, using Google Colab, you can experience programming without setting of your own PC & without writing a program!\n",
        "\n",
        "In our lecture, we will use our notebooks to experience MutMap anaylsis, QTL-seq analysis (tomorrow), Genomic analysis (day after tomorrow).\n",
        "\n",
        "**And we keep these notebooks in the server, so you can access these notebooks at any time even after this lecture**"
      ],
      "metadata": {
        "id": "F4tPUz-Y9TgH"
      }
    },
    {
      "cell_type": "markdown",
      "source": [
        "## How to use Google Colab\n",
        "\n",
        "In the notebook, there are 2 type of cells.\n",
        "\n",
        "The cell shows texts & figures is text cell. \n",
        "\n",
        "The cell shows code (like below cell) is code cell.\n",
        "\n",
        "In the Google Colab notebook, you can write code(program), and run your program in the code cell.\n",
        "\n",
        "```\n",
        "How to run the program\n",
        "\n",
        "  There are several ways to run the program: \n",
        "  - Click \"▶︎\" botton that is in the top left of the code cell\n",
        "  - Select the code cell and press \"Shift + Enter\" key.\n",
        "  - [for Windows] Select the code cell and press \"Ctrl + Enter\" key.\n",
        "  - [for Mac] Select the code cell and press the \"control + Enter\" keys.\n",
        "```\n",
        "\n",
        "please try to run (& edit) the below code."
      ],
      "metadata": {
        "id": "Xt6EApFB9zM2"
      }
    },
    {
      "cell_type": "code",
      "source": [
        "# sample code\n",
        "\n",
        "11 + 100"
      ],
      "metadata": {
        "id": "LaqZN-Dy0wXM"
      },
      "execution_count": null,
      "outputs": []
    },
    {
      "cell_type": "code",
      "source": [
        "# sample code2\n",
        "\n",
        "for i in range(10):\n",
        "  print(\"{}x{}x{} = \".format(i,i,i), i*i*i)"
      ],
      "metadata": {
        "id": "Q7gms5XmVSL_"
      },
      "execution_count": null,
      "outputs": []
    },
    {
      "cell_type": "markdown",
      "source": [
        "Googel Colab has a lot of useful functions such as save & export notebook,  use environment for Machine Learning ... etc\n",
        "\n",
        "https://colab.research.google.com/\n",
        "\n",
        "But, unfortunately, we have limited time, so we don't have time to teach other functions, how to do programming...etc.\n",
        "\n",
        "And we are focusing on Genomic analysis such as MutMap/QTL-seq.\n",
        "\n",
        "So, in this lecture, basically you will run the program that we developped through our notebook to experience MutMap/QTL-seq/...etc analysis and edit some part."
      ],
      "metadata": {
        "id": "YIFN36M-088W"
      }
    },
    {
      "cell_type": "markdown",
      "source": [
        "# Review of MutMap\n",
        "\n",
        "  MutMap analysis is one the methods to identify the genomic region which is associate with the phenotype. (like QTL mapping.)\n",
        "\n",
        "  The brief process of MutMap is below:\n",
        "1. Create a mutant line by introducing mutations in the original line.\n",
        "  - Several mutations are introduced into the genome of the mutant line, one of which is the causative mutation that alters the trait.\n",
        "1. Cross the mutant line with the original line to create a second generation (F2 population).\n",
        "  - By creating an F2 population, we obtain a large number of individuals with shuffled genome.\n",
        "  - Each mutation introduced to the genome has about a 50% chance of being transmitted to each F2 individual.\n",
        "  - The F2 individuals with the mutant trait should have certain common mutations in the genome.\n",
        "1. Collect DNA from the mutant individuals (bulk DNA) and perform next generation sequencing. The original line is sequenced at the same time.\n",
        "1. Compare  the original line and the bulk DNA sequence to obtain the following information\n",
        "  - The position where the mutation was introduced\n",
        "  - The type of base in the original line (reference base) and the base of the mutation\n",
        "  - The number of reference and mutant bases in the bulk DNA sequence\n",
        "1. Calculate the percentage of mutant bases in the bulk DNA sequence (**SNP-index**) across the genome to identify genomic regions where only mutant bases are found in the bulk DNA (causal genomic regions).\n",
        "\n",
        "<img src=\"https://github.com/slt666666/FAO_lecture/blob/main/MutMap.png?raw=true\" alt=\"title\" height=\"600px\">\n",
        "\n",
        "In this practice lecture, we will experience each step using simulation data to understand the process of MutMap.\n",
        "\n",
        "And then, we will experience MutMap analysis using some of the published data."
      ],
      "metadata": {
        "id": "ISbXd9Yh93Tv"
      }
    },
    {
      "cell_type": "markdown",
      "source": [
        "# 1st practice: MutMap analysis using very simple simulation data\n",
        "\n",
        "!! please run the below code, this code downloads programs...etc !!\n"
      ],
      "metadata": {
        "id": "PCBiPJQSstQP"
      }
    },
    {
      "cell_type": "code",
      "source": [
        "# Prepare modules & packages\n",
        "!wget -O module_mutmap.py https://github.com/slt666666/FAO_lecture/blob/main/module_mutmap.py?raw=true\n",
        "import pandas as pd\n",
        "pd.set_option('display.max_rows', 1000)\n",
        "pd.set_option('display.max_columns', 200)\n",
        "from module_mutmap import make_reference_and_mutant\n",
        "from module_mutmap import cross_reference_and_mutant\n",
        "from module_mutmap import bulk_sequencing\n",
        "from module_mutmap import alignment\n",
        "from module_mutmap import calculate_SNP_index\n",
        "from module_mutmap import visualize_SNP_index\n",
        "from module_mutmap import check_results\n",
        "from module_mutmap import MutMap_simulation\n",
        "from module_mutmap import load_data\n",
        "from module_mutmap import calculate_SNP_index2\n",
        "from module_mutmap import visualize_SNP_index2"
      ],
      "metadata": {
        "id": "fDO6J6iQpKBc"
      },
      "execution_count": null,
      "outputs": []
    },
    {
      "cell_type": "markdown",
      "source": [
        "## Simulation setting:\n",
        "\n",
        "In this practice, we assume...\n",
        "\n",
        "* **The plant which has only 1 chromosome & 100 bp.**\n",
        "\n",
        "* **We introduce 40 SNPs in this plant by EMS mutagenesis to make mutant line.**\n",
        "\n",
        "* **Mutation in 1 of 40 SNPs change the leaf color from green to light green.**\n",
        "\n",
        "    (But we don't know which SNP is causative.)\n",
        "\n",
        "<img src=\"https://github.com/slt666666/FAO_lecture/blob/main/simulation2.png?raw=true\" alt=\"title\" height=\"250px\">\n",
        "\n",
        "If we have this mutant line, to identify the causative SNP that alter leaf color,\n",
        "\n",
        "Let's try to perform MutMap analysis !!"
      ],
      "metadata": {
        "id": "lTQeDaH_iNlM"
      }
    },
    {
      "cell_type": "markdown",
      "source": [
        "## 1. Cross reference and mutant line.\n",
        "\n",
        "At first in MutMap analysis, we'll generate F2 progenies from reference line & mutant line.\n",
        "\n",
        "<img src=\"https://github.com/slt666666/FAO_lecture/blob/main/simulation3.png?raw=true\" alt=\"title\" height=\"300px\">\n",
        "\n",
        "Please run the below code to make F2 population !\n",
        "\n",
        "Below code generates 200 F2 population from reference & mutant line.\n"
      ],
      "metadata": {
        "id": "aoNMPnGj3NHF"
      }
    },
    {
      "cell_type": "code",
      "source": [
        "reference, mutant = make_reference_and_mutant(length=100, mutation=40)\n",
        "progeny = cross_reference_and_mutant(reference, mutant, progeny=200)"
      ],
      "metadata": {
        "id": "wUqWS0tGYoW-"
      },
      "execution_count": null,
      "outputs": []
    },
    {
      "cell_type": "markdown",
      "source": [
        "\n",
        "```\n",
        "※ Memo \n",
        "The above program generates genotype of progeny which is randomly mixed between reference and mutatnt line.\n",
        "Then, program decide the phenotype based on this genotype.\n",
        "So, the program stored the genotype & phenotype data of simulated population in the background.\n",
        "Therefore, we can check the result of MutMap is correct or not by comparing simulated data.\n",
        "\n",
        "```"
      ],
      "metadata": {
        "id": "ZhdJHma_SG21"
      }
    },
    {
      "cell_type": "markdown",
      "source": [
        "## 2. Bulk sequence of mutant phenotype line\n",
        "\n",
        "The 2nd step is bulk sequencing of mutant phenotype lines.\n",
        "\n",
        "Mutant phenotype(light green leaf) samples might have causative SNP mutation.\n",
        "\n",
        "<img src=\"https://github.com/slt666666/FAO_lecture/blob/main/simulation4.png?raw=true\" alt=\"title\" height=\"200px\">\n",
        "\n",
        "Please run the velow code to do the sequencing !\n",
        "\n",
        "The below code generate 20bp reads of bulk DNA (default is 200 reads)\n",
        "\n",
        "```\n",
        "※ Memo\n",
        "below program generates 20bp reads cause it's simulation.\n",
        "but usually, sequence reads are 150bp~300bp.\n",
        "```"
      ],
      "metadata": {
        "id": "e0RkR0EhAVST"
      }
    },
    {
      "cell_type": "code",
      "source": [
        "reads = bulk_sequencing(progeny, read=200)"
      ],
      "metadata": {
        "id": "soVcOIaee44t"
      },
      "execution_count": null,
      "outputs": []
    },
    {
      "cell_type": "markdown",
      "source": [
        "The above program perform sequencing of bulk DNA & sequence results(fastq file) is saved in the Colab server.\n",
        "\n",
        "You can check this fastq file using file system in Google Colab ↓\n",
        "\n",
        "```\n",
        "How to check files in your Google Colab server space.\n",
        "1. Click the file icon in upper left.\n",
        "2. The file list showed files in your server space.\n",
        "(3. if there is no \"bulked_sequences.fastq\", please click the third icon from the right\n",
        "```\n",
        "<img src=\"https://github.com/slt666666/FAO_lecture/blob/main/filesystem.png?raw=true\" alt=\"title\" height=\"250px\">"
      ],
      "metadata": {
        "id": "17FTRBQqbNaQ"
      }
    },
    {
      "cell_type": "markdown",
      "source": [
        "## 3. Alignment sequence reads to refrence genome.\n",
        "\n",
        "After sequencing bulked DNA, we will align these sequence reads to the reference genome to identify SNP positions.\n",
        "\n",
        "<img src=\"https://github.com/slt666666/FAO_lecture/blob/main/alignment.png?raw=true\" alt=\"title\" height=\"250px\">\n",
        "\n",
        "Please run the below code to perform alignment !\n",
        "\n",
        "The below code align reads to the reference & show results."
      ],
      "metadata": {
        "id": "ICTDKi2IDXG6"
      }
    },
    {
      "cell_type": "code",
      "source": [
        "alignment_result = alignment(reads, reference)\n",
        "alignment_result"
      ],
      "metadata": {
        "id": "NGzsiHp_DU6C"
      },
      "execution_count": null,
      "outputs": []
    },
    {
      "cell_type": "markdown",
      "source": [
        "\n",
        "```\n",
        "※ Memo\n",
        "In this notebook, we perform alignment of these reads by our program.\n",
        "But basically, when we perform alignment, we use mapping tool such as BWA(http://bio-bwa.sourceforge.net/).\n",
        "So, if you conduct MutMap analysis by your own data, it may has required to use mapping tool.\n",
        "But MutMap pipeline that we will introduce later contains mapping tools. So, you don't need to care about it.\n",
        "```"
      ],
      "metadata": {
        "id": "HH-8nP8A-KkI"
      }
    },
    {
      "cell_type": "markdown",
      "source": [
        "### 4. Calculate SNP-index based on alignment results\n",
        "\n",
        "After the alignment, the next process is calculating SNP-index.\n",
        "\n",
        "SNP index showed the ratio of the mutant base for each genomic position.\n",
        "\n",
        "If SNP index is close to 1, almost all mutant phenotype lines have different genotype from reference at this position (= this SNP might be causative SNP).\n",
        "\n",
        "<img src=\"https://github.com/slt666666/FAO_lecture/blob/main/SNP_index.png?raw=true\" alt=\"title\" height=\"300px\">\n",
        "\n",
        "Please run the below code to calculate SNP index basde on alignment results !!"
      ],
      "metadata": {
        "id": "8Lag5xCUDwIf"
      }
    },
    {
      "cell_type": "code",
      "source": [
        "SNP_index = calculate_SNP_index(alignment_result, reference, mutant)\n",
        "SNP_index"
      ],
      "metadata": {
        "id": "AvQK8yl2hU4B"
      },
      "execution_count": null,
      "outputs": []
    },
    {
      "cell_type": "markdown",
      "source": [
        "## 5. Visulalize SNP index plot\n",
        "\n",
        "After calculating SNP index, visualize it to search the causative position.\n",
        "\n",
        "Please run the below code to visualize SNP index!\n"
      ],
      "metadata": {
        "id": "LuuOeEd7EEeD"
      }
    },
    {
      "cell_type": "code",
      "source": [
        "visualize_SNP_index(SNP_index)"
      ],
      "metadata": {
        "id": "ZMDTG3c38nDD"
      },
      "execution_count": null,
      "outputs": []
    },
    {
      "cell_type": "markdown",
      "source": [
        "# check analysis results & real genotype\n",
        "\n",
        "MutMap analysis showed the candidate position of causative SNP. (position showed SNP index is 1)\n",
        "\n",
        "The below code showed the genotype of some F2 progenies that simulation program generated.\n",
        "\n",
        "Try to check MutMap result is correct or not !!\n",
        "\n",
        "```\n",
        "※this is simulation, so all genotypes of progenies are saved in background.\n",
        "```"
      ],
      "metadata": {
        "id": "4cX0qVWABLB-"
      }
    },
    {
      "cell_type": "code",
      "source": [
        "check_results(reference, SNP_index)"
      ],
      "metadata": {
        "id": "P53_UrRdEQ-d"
      },
      "execution_count": null,
      "outputs": []
    },
    {
      "cell_type": "markdown",
      "source": [
        "The setting of this simulation was ... The \"Light Green\" phenotyope is controlled by the one SNP mutation.\n",
        "\n",
        "MutMap analysis success to identify this position using only reference fasta & bulked fasta!!\n",
        "\n",
        "<img src=\"https://github.com/slt666666/FAO_lecture/blob/main/causative.png?raw=true\" alt=\"title\" height=\"200px\">"
      ],
      "metadata": {
        "id": "s-woPrBgOwGu"
      }
    },
    {
      "cell_type": "markdown",
      "source": [
        "# Play with simulation!\n",
        "\n",
        "You can specify\n",
        "- the length of reference genome\n",
        "- the number of mutations\n",
        "- the number of progeny\n",
        "- the number of reads\n",
        "\n",
        "please make different situation & perform MutMap analysis using below code.\n",
        "\n",
        "```\n",
        "※if you specify large length (like 10000~), it may take so much time.\n",
        "```"
      ],
      "metadata": {
        "id": "miYIj1If9soJ"
      }
    },
    {
      "cell_type": "code",
      "source": [
        "MutMap_simulation(length=100, mutation=20, progeny=200, read=10)"
      ],
      "metadata": {
        "id": "jv8KLVmn-U1C"
      },
      "execution_count": null,
      "outputs": []
    },
    {
      "cell_type": "markdown",
      "source": [
        "# Introduction of MutMap pipeline\n",
        "\n",
        "Our laboratory & team developped the very simple pipeline to perform MutMap.\n",
        "\n",
        "<img src=\"https://github.com/YuSugihara/MutMap/blob/master/images/1_logo.png?raw=true\" alt=\"title\" height=\"100px\">\n",
        "\n",
        "(https://github.com/YuSugihara/MutMap)\n",
        "\n",
        "This pipeline is very simple to use.\n",
        "\n",
        "To use this pipeline, the required input data is ...\n",
        "* reference fasta file\n",
        "* reference sequence reads fastq file\n",
        "* Bulk DNA sequence reads fastq file\n",
        "\n",
        "And you just install pipeline & use below command. That's it !\n",
        "\n",
        "```\n",
        "# command\n",
        "mutmap -r reference_sequences.fasta -c reference.fastq -b bulked_sequences.fastq -n 20 -o output_name\n",
        "```\n",
        "\n",
        "<br>\n",
        "\n",
        "```\n",
        "ex) The public avaliable reference genome of Rice is Nipponbare cultivar.\n",
        "But if you want to use different cultivar like Hitomebore cultivar as a reference, reference.fastq is required.\n",
        "```\n"
      ],
      "metadata": {
        "id": "xJevQ0MeT8-4"
      }
    },
    {
      "cell_type": "markdown",
      "source": [
        "# 2nd practice: MutMap analysis using published data\n",
        "\n",
        "In this part, we used published data (Abe et al., 2012) to see the real result of SNP index.\n"
      ],
      "metadata": {
        "id": "ZbisCkqHNt8C"
      }
    },
    {
      "cell_type": "markdown",
      "source": [
        "## Materials\n",
        "\n",
        "We used rice cultivar \"Hitomebore\" as a reference. \n",
        "\n",
        "\"Hit1917-pl1\" cultivar was generated by mutagenesis and showed lightgreen leaf color (low chlorophyll content).\n",
        "\n",
        "Hit1917-pl1 has almost 1500 SNPs that are different from reference genotype.\n"
      ],
      "metadata": {
        "id": "KF6GfH3MNxlq"
      }
    },
    {
      "cell_type": "markdown",
      "source": [
        "## Methods\n",
        "\n",
        "To identify which SNP variant is causative for the change of leaf color, we conducted MutMap analysis.\n",
        "\n",
        "We generated over 200 F2 progenies by crossing reference and mutant lines.\n",
        "\n",
        "<img src=\"https://github.com/slt666666/FAO_lecture/blob/main/material.png?raw=true\" alt=\"title\" height=\"600px\">"
      ],
      "metadata": {
        "id": "e2Pav8mkvHcw"
      }
    },
    {
      "cell_type": "markdown",
      "source": [
        "## Bulked sequencing & alignment of mutant phenotype F2 lines\n",
        "\n",
        "Then, we conducted bulked sequencing of progenies that showed mutant phenotype.\n",
        "\n",
        "(You can access sequence data in [DRA000499](https://www.ncbi.nlm.nih.gov/sra?term=DRA000499) as a reference.)\n",
        "\n",
        "After that, we aligned these sequences and calculate SNP index.\n",
        "\n",
        "In this notebook, we used [table data](https://raw.githubusercontent.com/CropEvol/lecture/master/data/mutmap_chr10.txt) that showed alignment results (the SNP information) in the chromosome10.\n",
        "\n",
        "<img src=\"https://github.com/slt666666/FAO_lecture/blob/main/sample_data.png?raw=true\" alt=\"title\" height=\"450px\">\n",
        "\n"
      ],
      "metadata": {
        "id": "2kWaCxBISXog"
      }
    },
    {
      "cell_type": "markdown",
      "source": [
        "Please run the below code, to download the table data (alignment & SNP calling results) !!"
      ],
      "metadata": {
        "id": "OgxXpuusSf09"
      }
    },
    {
      "cell_type": "code",
      "source": [
        "# download and load alignment results of chr10\n",
        "!wget -O mutmap_dataset.txt https://raw.githubusercontent.com/CropEvol/lecture/master/data/mutmap_chr10.txt\n",
        "alignment_results = load_data()\n",
        "\n",
        "print(\"Data looks like ...\")\n",
        "alignment_results.head()"
      ],
      "metadata": {
        "id": "p7yOprThSkOA"
      },
      "execution_count": null,
      "outputs": []
    },
    {
      "cell_type": "markdown",
      "metadata": {
        "id": "3m7ZsUNo-A8K"
      },
      "source": [
        "## Calculate SNP-index\n",
        "\n",
        "Based on this table information, we calcuate SNP-index.\n",
        "\n",
        "<img src=\"https://github.com/slt666666/FAO_lecture/blob/main/calculation.png?raw=true\" alt=\"mutmap_analysis_calc_snpindex\" height=\"200px\">\n",
        "\n",
        "Please run the below code to calculate SNP-index !!"
      ]
    },
    {
      "cell_type": "code",
      "metadata": {
        "id": "1cKjh-RQsxIZ"
      },
      "source": [
        "SNP_index = calculate_SNP_index2(alignment_results)\n",
        "SNP_index"
      ],
      "execution_count": null,
      "outputs": []
    },
    {
      "cell_type": "markdown",
      "metadata": {
        "id": "pBWuwDJz-Jai"
      },
      "source": [
        "## Visualize SNP index plot\n",
        "\n",
        "Visualize calculated SNP index to check the causative positon in chromosome 10.\n",
        "\n",
        "Please run the below code to visualize SNP-index in the chromosome 10 !!"
      ]
    },
    {
      "cell_type": "code",
      "metadata": {
        "id": "wyCIIOKbuV7p"
      },
      "source": [
        "visualize_SNP_index2(SNP_index)"
      ],
      "execution_count": null,
      "outputs": []
    },
    {
      "cell_type": "markdown",
      "source": [
        "Red circle showed SNPs with over 0.8 SNP-index and they might be causative position.\n",
        "\n",
        "However, there are several regions that showed SNP-index > 0.8.\n",
        "\n",
        "**It means there are several genes affect leaf color ? Maybe No.**\n",
        "\n",
        "Some of them might be occurred by low depth, sequence error...etc (false positives).\n",
        "\n",
        "So, we need to reduce false positives, and\n",
        "\n",
        "**Sliding window** analysis is one of the approaches to reduce these false positives.\n",
        "\n",
        "We will try to do sliding window analysis tomorrow practice !"
      ],
      "metadata": {
        "id": "I3fT-bcDWsEx"
      }
    },
    {
      "cell_type": "markdown",
      "metadata": {
        "id": "PFTQIMDGuYAT"
      },
      "source": [
        "---\n",
        "## Summary\n",
        "\n",
        "In this notebook, we demonstrate **MutMap** analysis using simulation data to understand the process of MutMap analysis..\n",
        "\n",
        "Also, we check the MutMap analysis result of published data to interpret results of MutMap analysis.\n",
        "   \n",
        "And if you want to conduct MitMap analysis, the pipeline that our group developped is prepared.\n",
        "(https://github.com/YuSugihara/MutMap)\n",
        "   \n",
        "Tomorrow, we'll demonstrate **QTL-seq** analysis & **Sliding window** analysis for MutMap & QTL-seq.\n"
      ]
    },
    {
      "cell_type": "code",
      "source": [
        ""
      ],
      "metadata": {
        "id": "oUXQUv6r6mb2"
      },
      "execution_count": null,
      "outputs": []
    }
  ]
}