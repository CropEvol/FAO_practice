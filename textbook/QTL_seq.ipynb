{
  "nbformat": 4,
  "nbformat_minor": 0,
  "metadata": {
    "colab": {
      "name": "QTL-seq.ipynb",
      "provenance": [],
      "collapsed_sections": [],
      "toc_visible": true
    },
    "kernelspec": {
      "name": "python3",
      "display_name": "Python 3"
    }
  },
  "cells": [
    {
      "cell_type": "markdown",
      "metadata": {
        "id": "vFnKcfhjYcjf"
      },
      "source": [
        "<img src=\"https://github.com/slt666666/FAO_lecture/blob/main/title.png?raw=true\" alt=\"title\" height=\"300px\">\n"
      ]
    },
    {
      "cell_type": "markdown",
      "metadata": {
        "id": "31NfnQcvPDoY"
      },
      "source": [
        "# QTL-seq - practice -\n",
        "\n",
        "We will perform QTL-seq analysis using simulation data & perform sliding window analysis using yesterday's result in this practice part.\n",
        "\n",
        "It may help you to understand ...\n",
        "* the process of QTL-seq analysis \n",
        "* How to interpret the results of QTL-seq analysis\n",
        "* What data is required for QTL-seq\n",
        "* What is sliding window analysis & Why it is required."
      ]
    },
    {
      "cell_type": "markdown",
      "source": [
        "## The contents in this notebook ... \n",
        "\n",
        "* Review of QTL-seq\n",
        "\n",
        "* Practice - QTL-seq analysis for simulation data -\n",
        "\n",
        "  * We assume very simple organism & conduct QTL-seq analysis to understand the process of QTL-seq.\n",
        "\n",
        "* Introduction of QTL-Seq pipeline (Github)\n",
        "\n",
        "* Sliding window analysis\n",
        "  * What is sliding window analysis for MutMap & QTL-seq?\n",
        "  * We use published data in MutMap paper [(Abe et al., 2012)](https://www.nature.com/articles/nbt.2095) & perform sliding window analysis."
      ],
      "metadata": {
        "id": "wZpUAKrgmHnm"
      }
    },
    {
      "cell_type": "markdown",
      "source": [
        "# Main contents"
      ],
      "metadata": {
        "id": "pYgp_cqzl-pM"
      }
    },
    {
      "cell_type": "markdown",
      "source": [
        "# Review of QTL-seq\n",
        "\n",
        "  QTL-seq analysis is one the methods to identify the genomic region which is associate with the quantitative traits. (like QTL mapping.)\n",
        "\n",
        "* MutMap: Qualitative trait\n",
        "\n",
        "* QTL-seq: Quantitative trait\n",
        "\n",
        "The brief process of QTL-seq is below:\n",
        "\n",
        "1. Cross 2 cultivars that showed different phenotype to generate F2 population and survey phenotypes of F2  progenies.\n",
        "\n",
        "1. If there are segregtion, Select 20~ samples each showing opposite phenotypes (high and low).\n",
        "\n",
        "1. Collect bulked DNA from selected samples for each phenotype (Low bulk & High bulk), and perform next generation sequencing (bulk sequencing).\n",
        "\n",
        "1. Sequence reads are aligned to the reference genome of one parent. And then, calculate SNP-index for whole genome region based on alignment results.\n",
        "\n",
        "1. Finally, to compare SNP-index between high bulk and low bulk, calculate ΔSNP-index which indicate the difference of SNP-index between high and low bulks. As a results, the genomic region which allele frequency is hugely different between high and low bulk are identified as high ΔSNP-index(0 <) or low ΔSNP-index(< 0).\n",
        "\n",
        "This genomic region is candidate of causative region that affect phenotype.\n",
        "\n",
        "<img src=\"https://github.com/slt666666/FAO_lecture/blob/main/QTLseq.png?raw=true\" alt=\"title\" height=\"750px\">\n",
        "\n",
        "In this practice lecture, we plan to experience each step using simulation data to understand the process of QTL-seq."
      ],
      "metadata": {
        "id": "ISbXd9Yh93Tv"
      }
    },
    {
      "cell_type": "markdown",
      "source": [
        "# Practice: QTLseq analysis using very simple simulation data\n",
        "\n",
        "<img src=\"https://github.com/slt666666/FAO_lecture/blob/main/intro2.png?raw=true\" alt=\"title\" height=\"200px\">\n",
        "\n",
        "!! please run the below code, this code downloads programs. !!"
      ],
      "metadata": {
        "id": "PCBiPJQSstQP"
      }
    },
    {
      "cell_type": "code",
      "source": [
        "# Prepare modules & packages\n",
        "!wget -O module_qtlseq.py https://github.com/slt666666/FAO_lecture/blob/main/module_qtlseq.py?raw=true\n",
        "\n",
        "from module_qtlseq import make_2_cultivars\n",
        "from module_qtlseq import make_F2_progeny\n",
        "from module_qtlseq import check_distribution\n",
        "from module_qtlseq import high_and_low_bulk_sequencing\n",
        "from module_qtlseq import alignment\n",
        "from module_qtlseq import calculate_SNP_index\n",
        "from module_qtlseq import visualize_SNP_index\n",
        "from module_qtlseq import calculate_delta_SNP_index\n",
        "from module_qtlseq import visualize_delta_SNP_index\n",
        "from module_qtlseq import check_results\n",
        "from module_qtlseq import qtl_seq_simulation\n",
        "from module_qtlseq import get_yesterday_SNP_index\n",
        "from module_qtlseq import visualize_SNP_index2\n",
        "from module_qtlseq import sliding_window"
      ],
      "metadata": {
        "id": "fDO6J6iQpKBc"
      },
      "execution_count": null,
      "outputs": []
    },
    {
      "cell_type": "markdown",
      "source": [
        "## Simulation setting:\n",
        "\n",
        "In this practice, we assume...\n",
        "\n",
        "* **The plant which has only 1 chromosome & genome size is 100bp.**\n",
        "\n",
        "* **There are 2 cultivars. cultivar A is higher plant than cultivar B.**\n",
        "\n",
        "* **Cultivar B has 40 SNPs which genotypes are different from cultivar A genotype.**\n",
        "\n",
        "* **1 SNP has a big effect on the plant height. Other 39 SNPs have small effect.**\n",
        "\n",
        "    **But we don't know which SNP has big effect.**\n",
        "\n",
        "<img src=\"https://github.com/slt666666/FAO_lecture/blob/main/simulation5.png?raw=true\" alt=\"title\" height=\"200px\">\n",
        "\n",
        "If we have these cultivars, to identify the SNP that have big effect on plant height,\n",
        "\n",
        "Let's try to perform QTL-seq analysis !!"
      ],
      "metadata": {
        "id": "czAaaKCYuZ1S"
      }
    },
    {
      "cell_type": "markdown",
      "source": [
        "## 1. Cross parent lines and generate F2 population\n",
        "\n",
        "At first in QTL-seq analysis, we'll generate F2 population from cultivar A & cultivar B.\n",
        "\n",
        "<img src=\"https://github.com/slt666666/FAO_lecture/blob/main/simulation6.png?raw=true\" alt=\"title\" height=\"300px\">\n",
        "\n",
        "The phenotypes of F2 progenies are randomly distributed depending on their genotypes.\n",
        "\n",
        "<br>\n",
        "\n",
        "Please run the below code to generate F2 population between Cultivar A and B.\n",
        "\n",
        "The below code generates 200 F2 population & check distribution of phenotype values of F2."
      ],
      "metadata": {
        "id": "aoNMPnGj3NHF"
      }
    },
    {
      "cell_type": "code",
      "source": [
        "cultivar_A, cultivar_B = make_2_cultivars(length=100, snp=40)\n",
        "f2_progeny = make_F2_progeny(cultivar_A, cultivar_B, progeny=200)\n",
        "check_distribution(f2_progeny)"
      ],
      "metadata": {
        "id": "wUqWS0tGYoW-"
      },
      "execution_count": null,
      "outputs": []
    },
    {
      "cell_type": "markdown",
      "source": [
        "```\n",
        "※ Memo\n",
        "The simulation program generates genotype of progeny which is randomly mixed between cultivar A and cultivar B.\n",
        "Then, program decide the phenotype values based on the simulated effect of each SNP genotype (& This program consider the error variance).\n",
        "So, the program saved the genotype data of simulated population & the effect of each SNP.\n",
        "Therefore, we can check the result of QTL-seq is correct or not by comparing simulated data.\n",
        "```"
      ],
      "metadata": {
        "id": "ZhdJHma_SG21"
      }
    },
    {
      "cell_type": "markdown",
      "source": [
        "## 2. Bulk sequence of high phenotype samples & that of low phenotype samples.\n",
        "\n",
        "The 2nd step is bulk sequencing of high phenotype samples & low phenotype samples.\n",
        "\n",
        "If there is a SNP mutation that only high(/low) phenotype samples have, this SNP may habe big effect.\n",
        "\n",
        "In this study, we collect top 20 samples and bottom 20 samples for phenotype values.\n",
        "\n",
        "<img src=\"https://github.com/slt666666/FAO_lecture/blob/main/simulation7.png?raw=true\" alt=\"title\" height=\"400px\">\n",
        "\n",
        "\n",
        "Please run the below code to perform bulk sequencing for each sample set!!\n",
        "\n",
        "Below code generate sequence read file for each bulk."
      ],
      "metadata": {
        "id": "e0RkR0EhAVST"
      }
    },
    {
      "cell_type": "code",
      "source": [
        "high_reads, low_reads = high_and_low_bulk_sequencing(f2_progeny, top=20, bottom=20, reads=200)"
      ],
      "metadata": {
        "id": "soVcOIaee44t"
      },
      "execution_count": null,
      "outputs": []
    },
    {
      "cell_type": "markdown",
      "source": [
        "The above program perform sequencing of bulk DNA & sequence results(fastq file) is saved in the Colab server.\n",
        "\n",
        "You can check sequence result (fastq files) using file system ↓\n",
        "\n",
        "```\n",
        "How to check files in your Google Colab server space.\n",
        "1. Click the file icon in upper left.\n",
        "2. The file list showed files in your server space.\n",
        "(3. if there is no \"high_bulked_sequences.fastq\" and \"low_bulked_sequences.fastq\", please click the third icon from the right\n",
        "```\n",
        "<img src=\"https://github.com/slt666666/FAO_lecture/blob/main/filesystem.png?raw=true\" alt=\"title\" height=\"250px\">\n",
        "\n",
        "```\n",
        "※Memo\n",
        "If you want to know more about fastq format, please check here↓\n",
        "https://en.wikipedia.org/wiki/FASTQ_format\n",
        "```"
      ],
      "metadata": {
        "id": "17FTRBQqbNaQ"
      }
    },
    {
      "cell_type": "markdown",
      "source": [
        "## 3. Alignment reads to the cultivar A sequence genotype\n",
        "\n",
        "After sequencing each bulked DNA, we will align these sequence reads to the cultivar_A genome to identify SNP positions for each bulk samples.\n",
        "\n",
        "<img src=\"https://github.com/slt666666/FAO_lecture/blob/main/simulation9.png?raw=true\" alt=\"title\" height=\"400px\">\n",
        "\n",
        "Please run the below code to align bulk sequence reads to cultivar A genotype !!\n"
      ],
      "metadata": {
        "id": "cWYdn7OlDbJ3"
      }
    },
    {
      "cell_type": "code",
      "source": [
        "high_bulk_alignment_result, low_bulk_alignment_result = alignment(high_reads, low_reads, cultivar_A)"
      ],
      "metadata": {
        "id": "NGzsiHp_DU6C"
      },
      "execution_count": null,
      "outputs": []
    },
    {
      "cell_type": "markdown",
      "source": [
        "\n",
        "```\n",
        "※ Memo\n",
        "In this notebook, we perform alignment of sequence reads by our program.\n",
        "But basically, when we perform alignment, we use mapping tool such as BWA(http://bio-bwa.sourceforge.net/).\n",
        "So, if you conduct QTL-seq analysis by your own data, it may has required to use mapping tool.\n",
        "But QTL-seq pipeline that we will introduce later contains mapping tools. So, you don't need to care about it.\n",
        "```"
      ],
      "metadata": {
        "id": "HH-8nP8A-KkI"
      }
    },
    {
      "cell_type": "markdown",
      "source": [
        "## 4. Calculate SNP-index based on alignment results for low bulk & high bulk\n",
        "\n",
        "After the alignment, we can calculate SNP index for each bulk.\n",
        "\n",
        "In the QTL-seq, SNP-index showed the ratio of number of reads which are different genotype from cultivar_A.\n",
        "\n",
        "If SNP-index is close to 1, most reads showed different genotype from cultivar_A genotype in the SNP position.\n",
        "\n",
        "<img src=\"https://github.com/slt666666/FAO_lecture/blob/main/simulation12.png?raw=true\" alt=\"title\" height=\"250px\">\n",
        "\n",
        "Please run the below code to calculate SNP-index for each bulk !!"
      ],
      "metadata": {
        "id": "8Lag5xCUDwIf"
      }
    },
    {
      "cell_type": "code",
      "source": [
        "high_bulk_SNP_index, low_bulk_SNP_index = calculate_SNP_index(high_bulk_alignment_result, low_bulk_alignment_result, cultivar_A, cultivar_B)\n",
        "print(\"High bulk\")\n",
        "display(high_bulk_SNP_index)\n",
        "print(\"Low bulk\")\n",
        "display(low_bulk_SNP_index)"
      ],
      "metadata": {
        "id": "AvQK8yl2hU4B"
      },
      "execution_count": null,
      "outputs": []
    },
    {
      "cell_type": "markdown",
      "source": [
        "## 5. Calculate ΔSNP-index\n",
        "\n",
        "After we get SNP-index data for each bulk (high & low bulk), we should compare them.\n",
        "\n",
        "ex) SNP positions that showed high SNP index in both high and low bulk may not be candidates.\n",
        "\n",
        "<img src=\"https://github.com/slt666666/FAO_lecture/blob/main/simulation11.png?raw=true\" alt=\"title\" height=\"600px\">\n",
        "\n",
        "So, we should remove this kind of positions and identify the high SNP-index position that only High or Low bulk samples has.\n",
        "\n",
        "To do that, we calculate ΔSNP-index = SNP-index(high bulk) - SNP-index(low bulk).\n",
        "\n",
        "Please run the below code to caculate ΔSNP-index"
      ],
      "metadata": {
        "id": "51y8iDfcqzE6"
      }
    },
    {
      "cell_type": "code",
      "source": [
        "delta_SNP_index = calculate_delta_SNP_index(high_bulk_SNP_index, low_bulk_SNP_index)\n",
        "delta_SNP_index"
      ],
      "metadata": {
        "id": "ao6N1b17q5bp"
      },
      "execution_count": null,
      "outputs": []
    },
    {
      "cell_type": "markdown",
      "source": [
        "## 7. Visulalize ΔSNP-index plot\n",
        "\n",
        "After calculating ΔSNP-index, visualize it to search the causative position."
      ],
      "metadata": {
        "id": "edSAr6FBq5qr"
      }
    },
    {
      "cell_type": "code",
      "source": [
        "visualize_delta_SNP_index(delta_SNP_index)"
      ],
      "metadata": {
        "id": "HfK53pkDca_v"
      },
      "execution_count": null,
      "outputs": []
    },
    {
      "cell_type": "markdown",
      "source": [
        "The SNP position which showed high ΔSNP-index, might have the big effect on plant height."
      ],
      "metadata": {
        "id": "LDR1Ou-WWR8_"
      }
    },
    {
      "cell_type": "markdown",
      "source": [
        "## check analysis results & real genotype\n",
        "\n",
        "QTL-seq analysis showed causative SNP that has ΔSNP index is almost 1.\n",
        "\n",
        "The below code showed the effect of each SNP & calculated ΔSNP-index (sorted by SNP effect.)\n",
        "\n",
        "Try to check QTL-seq result is correct or not !!"
      ],
      "metadata": {
        "id": "4cX0qVWABLB-"
      }
    },
    {
      "cell_type": "code",
      "source": [
        "check_results(delta_SNP_index)"
      ],
      "metadata": {
        "id": "P53_UrRdEQ-d"
      },
      "execution_count": null,
      "outputs": []
    },
    {
      "cell_type": "markdown",
      "source": [
        "The setting of this simulation was ... 1 SNP has big effect on phenotype (+10).\n",
        "\n",
        "QTLseq analysis success to identify the position using only reference fasta & high and low bulked sequencing data!!"
      ],
      "metadata": {
        "id": "s-woPrBgOwGu"
      }
    },
    {
      "cell_type": "markdown",
      "source": [
        "# Play with simulation!\n",
        "\n",
        "You can specify\n",
        "- the length of reference genome (genome size)\n",
        "- the number of SNP mutations\n",
        "- the number of F2 progeny\n",
        "- the number of sequence reads\n",
        "\n",
        "please make different situation & perform MutMap analysis using below code."
      ],
      "metadata": {
        "id": "8qBrw3dP_POn"
      }
    },
    {
      "cell_type": "code",
      "source": [
        "qtl_seq_simulation(length=100, snp=40, progeny=200, reads=500)"
      ],
      "metadata": {
        "id": "nuBSWI7v_QEr"
      },
      "execution_count": null,
      "outputs": []
    },
    {
      "cell_type": "markdown",
      "source": [
        "# Introduction of QTL-seq pipeline\n",
        "\n",
        "Our laboratory developped the very simple pipeline to conduct QTL-seq.\n",
        "\n",
        "<img src=\"https://github.com/YuSugihara/QTL-seq/blob/master/images/1_logo.png?raw=true\" alt=\"title\" height=\"100px\">\n",
        "\n",
        "(https://github.com/YuSugihara/QTL-seq)\n",
        "\n",
        "This pipeline is very simple to use.\n",
        "\n",
        "To use this pipeline, the required input data is ...\n",
        "\n",
        "The required input data is ...\n",
        "* reference fasta\n",
        "* reference sequence reads\n",
        "* High bulk DNA sequence reads \n",
        "* Low bulk DNA sequence reads\n",
        "\n",
        "And you just install pipeline & use below command. That's it !\n",
        "\n",
        "```\n",
        "# command\n",
        "qtlseq -r reference.fasta -p reference.fastq -b1 high_bulked_sequences.fastq -b2 low_bulked_sequences.fastq -n1 20 -n2 20 -o output_name\n",
        "```\n",
        "\n",
        "then, you can get data file that contains ΔSNP positions & SNP-index values & graph that visualize it."
      ],
      "metadata": {
        "id": "DT0Rb-vsyrZH"
      }
    },
    {
      "cell_type": "markdown",
      "source": [
        "# Sliding window analysis\n",
        "\n",
        "In this part, we use yesterday's MutMap result in 2nd practice to experience sliding window analysis.\n"
      ],
      "metadata": {
        "id": "ZbisCkqHNt8C"
      }
    },
    {
      "cell_type": "markdown",
      "source": [
        "## Review of Sliding Window analysis\n",
        "\n",
        "Different from simulation study, the real data (experimental data) does not always showed theoretically correct values.\n",
        "\n",
        "The real data usually contains errors, outliers, human error...etc. And it generates false positives.\n",
        "\n",
        "For MutMap(QTLseq) analysis, SNP-index will be different from expected values due to the errors.\n",
        "\n",
        "ex) When the read depth is not enough,\n",
        "\n",
        "sometimes it could lead a big outlier like SNP-index=0(or SNP-index=1) in the not important SNP position.\n",
        "\n",
        "### Sliding window\n",
        "\n",
        "To escape these errors, one approach is taking the average of SNP-indexes of nearby regions.\n",
        "\n",
        "It will diminish the influence of error, and we can get more reliable SNP-index results.\n",
        "\n",
        "<br>\n",
        "\n",
        "The process of sliding window analysis is...\n",
        "\n",
        "1. Decide the size of interval (window size), and movement size to next interval (step size)\n",
        "1. Extract data (SNP-indexes) in the interval.\n",
        "1. Calculate average value of them.\n",
        "1. Move the interval by the step size.\n",
        "1. Continue 2-4 process to finish the whole region.\n",
        "\n",
        "<img src=\"https://github.com/slt666666/FAO_lecture/blob/main/simulation13.png?raw=true\" alt=\"title\" height=\"400px\">"
      ],
      "metadata": {
        "id": "95A7GRBEsOjS"
      }
    },
    {
      "cell_type": "markdown",
      "source": [
        "## Yesterday's result\n",
        "\n",
        "We used yesterday's results of SNP-index.\n",
        "\n",
        "**※Materials & Methods are same as yesterday.**\n",
        "\n",
        "<img src=\"https://github.com/slt666666/FAO_lecture/blob/main/material.png?raw=true\" alt=\"title\" height=\"400px\">\n",
        "\n",
        "### SNP-index\n",
        "\n",
        "Please run the below code, to download yesterday's result (alignment & SNP calling results & SNP-index) !!"
      ],
      "metadata": {
        "id": "tWZ-iVMD0foG"
      }
    },
    {
      "cell_type": "code",
      "source": [
        "!wget -q -O mutmap_dataset.txt https://raw.githubusercontent.com/CropEvol/lecture/master/data/mutmap_chr10.txt\n",
        "SNP_index = get_yesterday_SNP_index()\n",
        "display(SNP_index)\n",
        "visualize_SNP_index2(SNP_index)"
      ],
      "metadata": {
        "id": "p7yOprThSkOA"
      },
      "execution_count": null,
      "outputs": []
    },
    {
      "cell_type": "markdown",
      "source": [
        "Red circles showed high SNP-index (>0.8). \n",
        "\n",
        "There are multiple positions showed high SNP-index.\n",
        "\n",
        "To extract more reliable regions from this results, we try to perform sliding window analysis."
      ],
      "metadata": {
        "id": "Si_y1YaxwmTt"
      }
    },
    {
      "cell_type": "markdown",
      "source": [
        "## Sliding window analysis & visualize it.\n",
        "\n",
        "Below code perform sliding window analysis.\n",
        "\n",
        "Window size & Step size to perform sliding window analysis can be set.\n",
        "\n",
        "```\n",
        "At first, we set window size = 1mbp & step size = 200kbp\n",
        "(considering that the legth of chromosome10 is 23207287bp.)\n",
        "```"
      ],
      "metadata": {
        "id": "PiCsEGlBw8Z1"
      }
    },
    {
      "cell_type": "code",
      "source": [
        "sliding_window(SNP_index, window_size=1000000, step_size = 200000)"
      ],
      "metadata": {
        "id": "j2NWBvJn1-jL"
      },
      "execution_count": null,
      "outputs": []
    },
    {
      "cell_type": "markdown",
      "source": [
        "Red line showed average SNP-index for each interval.\n",
        "\n",
        "Plot showed 22~23Mbp in chromosome 10 showed high average SNP-index.\n",
        "\n",
        "This result suggests that there is a gene that related to leaf color in 22~23Mbp, chromosome 10.\n",
        "\n",
        "In this region, there is a gene \"OsCAO1\" that codes Chlorophyllide a oxygenase.\n",
        "\n",
        "And it was known that the knock-out line of OsCAO1 showed light green leaf. (Abe et al., 2012)。\n",
        "\n",
        "<br>\n",
        "\n",
        "But, of course, even after applying sliding window anaylsis, results may still contains false positive.\n",
        "\n",
        "In that case, we have to consider other approach to select candidate SNPs, such as biological information of the SNP position(exon, important gene region...etc)\n"
      ],
      "metadata": {
        "id": "9wguB-6sx0YF"
      }
    },
    {
      "cell_type": "markdown",
      "source": [
        "## Our developped MutMap/QTL-seq analysis pipeline include sliding window analysis\n",
        "\n",
        "You can specify window size & step size in these pipelines.\n",
        "\n",
        "- MutMap\n",
        "https://github.com/YuSugihara/MutMap#Usage\n",
        "\n",
        "- QTL-seq\n",
        "https://github.com/YuSugihara/QTL-seq#usage"
      ],
      "metadata": {
        "id": "2cTX5tWy2VlH"
      }
    },
    {
      "cell_type": "markdown",
      "metadata": {
        "id": "PFTQIMDGuYAT"
      },
      "source": [
        "---\n",
        "## Summary\n",
        "\n",
        "In this notebook, we demonstrate **QTL-seq** analysis using simulation data.\n",
        "\n",
        "And **Sliding window** analysis using published data.\n",
        "\n",
        "Actually, MutMap & QTL-seq analysi is very simple & easy methods.\n",
        "\n",
        "<br>\n",
        "\n",
        "The important point is how to interpret the results (SNP-index values).\n",
        "\n",
        "We should take care of false positives, errors, ...etc by applying sliding window analysis, checking read depth of interested SNPs...etc\n",
        "\n",
        "<br>\n",
        "\n",
        "Tomorrow, we'll plan to demonstrate **genomic prediction**."
      ]
    },
    {
      "cell_type": "code",
      "source": [
        ""
      ],
      "metadata": {
        "id": "Y4L8sV4L0wqY"
      },
      "execution_count": null,
      "outputs": []
    }
  ]
}