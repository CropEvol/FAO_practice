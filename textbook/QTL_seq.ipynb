{
  "nbformat": 4,
  "nbformat_minor": 0,
  "metadata": {
    "colab": {
      "name": "QTL-seq.ipynb",
      "provenance": [],
      "collapsed_sections": [],
      "toc_visible": true
    },
    "kernelspec": {
      "name": "python3",
      "display_name": "Python 3"
    }
  },
  "cells": [
    {
      "cell_type": "markdown",
      "metadata": {
        "id": "vFnKcfhjYcjf"
      },
      "source": [
        "<img src=\"https://github.com/slt666666/FAO_lecture/blob/main/title.png?raw=true\" alt=\"title\" height=\"300px\">\n"
      ]
    },
    {
      "cell_type": "markdown",
      "metadata": {
        "id": "31NfnQcvPDoY"
      },
      "source": [
        "# QTL-seq - practice -"
      ]
    },
    {
      "cell_type": "markdown",
      "source": [
        "## The contents in this notebook ... \n",
        "\n",
        "* Review of QTL-seq\n",
        "* Introduction of QTL-Seq pipeline (Github)\n",
        "\n",
        "* Practice - QTL-seq analysis for simulation data -\n",
        "\n",
        "  * We assume very simple organism & conduct MutMap analysis to understand the process of QTL-seq.\n",
        "\n",
        "* Sliding window analysis\n",
        "  * What is sliding window analysis for MutMap & QTL-seq?\n",
        "  * We use published data in MutMap paper [(Abe et al., 2012)](https://www.nature.com/articles/nbt.2095) & conduct sliding window analysis."
      ],
      "metadata": {
        "id": "wZpUAKrgmHnm"
      }
    },
    {
      "cell_type": "markdown",
      "source": [
        "# Main contents"
      ],
      "metadata": {
        "id": "pYgp_cqzl-pM"
      }
    },
    {
      "cell_type": "markdown",
      "source": [
        "# Review of QTL-seq\n",
        "\n",
        "  QTL-seq analysis is one the methods to identify the genomic region which is associate with the quantitative traits. (like QTL mapping.)\n",
        "\n",
        "* MutMap: Qualitative trait\n",
        "\n",
        "* QTL-seq: Quantitative trait\n",
        "\n",
        "The brief process of QTL-seq is below:\n",
        "\n",
        "1. Cross 2 cultivars to generate F2 population and survey pnehotypes of F2  progenies.\n",
        "\n",
        "1. If there are segregtion, Select 20~ samples each showing opposite phenotypes (high and low).\n",
        "\n",
        "1. Collect bulked DNA from selected samples for each phenotype (Low bulk & High bulk), and perform next generation sequencing (bulk sequencing).\n",
        "\n",
        "1. Sequence reads are aligned to the reference genome of one parent. And then, calculate SNP-index for whole genome region based on alignment results.\n",
        "\n",
        "1. Finally, to compare SNP-index between high bulk and low bulk, calculate ΔSNP-index which indicate the difference of SNP-index. As a results, the genomic region which allele frequency is hugely different between high and low bulk are identified as high ΔSNP-index(0 <) or low ΔSNP-index(< 0).\n",
        "\n",
        "This genomic region is candidate of causative region that affect phenotype.\n",
        "\n",
        "<img src=\"https://github.com/slt666666/FAO_lecture/blob/main/QTLseq.png?raw=true\" alt=\"title\" height=\"750px\">\n",
        "\n",
        "In this practice lecture, we plan to experience each step using simulation data to understand the process of QTL-seq."
      ],
      "metadata": {
        "id": "ISbXd9Yh93Tv"
      }
    },
    {
      "cell_type": "markdown",
      "source": [
        "# Introduction of QTL-seq pipeline\n",
        "\n",
        "Our laboratory developped the very simple pipeline to conduct QTL-seq.\n",
        "\n",
        "<img src=\"https://github.com/YuSugihara/QTL-seq/blob/master/images/1_logo.png?raw=true\" alt=\"title\" height=\"100px\">\n",
        "\n",
        "(https://github.com/YuSugihara/QTL-seq)\n",
        "\n",
        "To use this pipeline, you just need fasta files of sequence of reference genome and bulked sequence for each bulked samples.\n",
        "\n",
        "This pipeline is very simple to use, so it may be unclear what QTL-seq is doing.\n",
        "\n",
        "Thus, we'll follow the process of QTL-seq using simulation data Today."
      ],
      "metadata": {
        "id": "ihRC4tQ4neQ3"
      }
    },
    {
      "cell_type": "markdown",
      "source": [
        "# Practice: QTLseq analysis using very simple simulation data\n",
        "\n",
        "Simulation (default setting):\n",
        "\n",
        "* We assume the plant which has only 1 chromosome & 100 bp.\n",
        "\n",
        "* There are 2 cultivars, cultivar A & cultivar B. The height of cultivar B is shorter than cultivar A.\n",
        "\n",
        "* Cultivar B has 40 SNPs that are different from reference genotype.\n",
        "\n",
        "* One of 20 SNPs has a big effect on the plant height. Other SNPs also have small effect.\n",
        "\n",
        "(It's not realistic, just simulation.)\n",
        "\n",
        "<img src=\"https://github.com/slt666666/FAO_lecture/blob/main/simulation5.png?raw=true\" alt=\"title\" height=\"200px\">\n",
        "\n",
        "!! please run the below code, this code downloads programs. !!"
      ],
      "metadata": {
        "id": "PCBiPJQSstQP"
      }
    },
    {
      "cell_type": "code",
      "source": [
        "# Prepare modules & packages\n",
        "!wget -O module_qtlseq.py https://github.com/slt666666/FAO_lecture/blob/main/module_qtlseq.py?raw=true\n",
        "\n",
        "from module_qtlseq import make_2_cultivars\n",
        "from module_qtlseq import make_F2_progeny\n",
        "from module_qtlseq import check_distribution\n",
        "from module_qtlseq import high_and_low_bulk_sequencing\n",
        "from module_qtlseq import alignment\n",
        "from module_qtlseq import calculate_SNP_index\n",
        "from module_qtlseq import visualize_SNP_index\n",
        "from module_qtlseq import calculate_delta_SNP_index\n",
        "from module_qtlseq import visualize_delta_SNP_index\n",
        "from module_qtlseq import check_results\n",
        "from module_qtlseq import qtl_seq_simulation\n",
        "from module_qtlseq import get_yesterday_SNP_index\n",
        "from module_qtlseq import visualize_SNP_index2\n",
        "from module_qtlseq import sliding_window"
      ],
      "metadata": {
        "id": "fDO6J6iQpKBc"
      },
      "execution_count": null,
      "outputs": []
    },
    {
      "cell_type": "code",
      "source": [
        "cultivar_A, cultivar_B = make_2_cultivars(length=100, snp=40)"
      ],
      "metadata": {
        "id": "jE2xL8FPlZ-E"
      },
      "execution_count": null,
      "outputs": []
    },
    {
      "cell_type": "markdown",
      "source": [
        "Above code generate the genotype of 2 cultivars (cultivar A & B).\n",
        "\n",
        "You can check what genotype do cultivars have by below code."
      ],
      "metadata": {
        "id": "8Y48oZY9lmgW"
      }
    },
    {
      "cell_type": "code",
      "source": [
        "print(cultivar_A)\n",
        "print(cultivar_B)"
      ],
      "metadata": {
        "id": "gvyH2xxLlmwf"
      },
      "execution_count": null,
      "outputs": []
    },
    {
      "cell_type": "markdown",
      "source": [
        "## 1. Cross parent lines and generate F2 progeny\n",
        "\n",
        "To identify a causative SNP, we perform QTL-seq analysis.\n",
        "\n",
        "At first, we make F2 population by crossing cultivar A and cultivar B.\n",
        "\n",
        "<img src=\"https://github.com/slt666666/FAO_lecture/blob/main/simulation6.png?raw=true\" alt=\"title\" height=\"300px\">\n",
        "\n",
        "The phenotypes of F2 progenies are randomly distributed depending on their genotypes."
      ],
      "metadata": {
        "id": "aoNMPnGj3NHF"
      }
    },
    {
      "cell_type": "code",
      "source": [
        "f2_progeny = make_F2_progeny(cultivar_A, cultivar_B, progeny=200)"
      ],
      "metadata": {
        "id": "wUqWS0tGYoW-"
      },
      "execution_count": null,
      "outputs": []
    },
    {
      "cell_type": "markdown",
      "source": [
        "Above code generates simulated progeny of cultivar A and cultivar B.\n",
        "\n",
        "You can check what simulated population was generated by below code."
      ],
      "metadata": {
        "id": "k8kGmzcl8vSC"
      }
    },
    {
      "cell_type": "code",
      "source": [
        "f2_progeny"
      ],
      "metadata": {
        "id": "y91udZ1hona5"
      },
      "execution_count": null,
      "outputs": []
    },
    {
      "cell_type": "markdown",
      "source": [
        "And also you can check the distribution of phenotypes of simulated population by below code."
      ],
      "metadata": {
        "id": "Fp5lYFoXpFXR"
      }
    },
    {
      "cell_type": "code",
      "source": [
        "check_distribution(f2_progeny)"
      ],
      "metadata": {
        "id": "-FpcOv8B8t2s"
      },
      "execution_count": null,
      "outputs": []
    },
    {
      "cell_type": "markdown",
      "source": [
        "Until here(Generate progeny), these process are experimental part in reality.\n",
        "\n",
        "But we generate simulation progenies by program in this notebook.\n",
        "\n",
        "```\n",
        "※ The above program generates genotype of progeny which is randomly mixed between cultivar A and cultivar B.\n",
        "\n",
        "Then, program decide the phenotype information based on this genotype (This program consider the error variance).\n",
        "\n",
        "So, we have the genotype data of simulated population.\n",
        "\n",
        "But we usually don't know the genotype of progenies in reality.\n",
        "```"
      ],
      "metadata": {
        "id": "ZhdJHma_SG21"
      }
    },
    {
      "cell_type": "markdown",
      "source": [
        "## 3. Bulk sequence of samples with high phenotype & low phenotype.\n",
        "\n",
        "The difference of genotype between high phenotype & low phenotype might cause the phenotypic variance.\n",
        "\n",
        "So, to identify which mutaion is the mutation that has significant effect,\n",
        "\n",
        "we select samples which showed high phenotype and low phenotype.\n",
        "\n",
        "Then, we perform bulked sequencing for each sample set.\n",
        "\n",
        "<img src=\"https://github.com/slt666666/FAO_lecture/blob/main/simulation7.png?raw=true\" alt=\"title\" height=\"400px\">\n",
        "\n",
        "In this notebook, we collect top 20 samples and bottom 20 samples for phenotype values.\n",
        "\n",
        "Then, perform bulked sequencing."
      ],
      "metadata": {
        "id": "e0RkR0EhAVST"
      }
    },
    {
      "cell_type": "code",
      "source": [
        "high_reads, low_reads = high_and_low_bulk_sequencing(f2_progeny, top=20, bottom=20, reads=500)"
      ],
      "metadata": {
        "id": "soVcOIaee44t"
      },
      "execution_count": null,
      "outputs": []
    },
    {
      "cell_type": "markdown",
      "source": [
        "After run the above program, the program generate fasta file of low & high bulked sequences, respectively.\n",
        "\n",
        "You can check these fasta files using file system ↓\n",
        "\n",
        "```\n",
        "How to check files in your Google Colab server space.\n",
        "1. Click the file icon in upper left.\n",
        "2. The file list showed files in your server space.\n",
        "(3. if there is no \"bulked_sequences.fasta\", please click the third icon from the right\n",
        "```\n",
        "<img src=\"https://github.com/slt666666/FAO_lecture/blob/main/filesystem.png?raw=true\" alt=\"title\" height=\"250px\">"
      ],
      "metadata": {
        "id": "17FTRBQqbNaQ"
      }
    },
    {
      "cell_type": "markdown",
      "source": [
        "## 4. Calculate SNP index\n",
        "\n",
        "If there is an allele that only high phenotype samples (not low phenotype samples) have,\n",
        "\n",
        "it could be causative SNP position that affect phenotype.\n",
        "\n",
        "<img src=\"https://github.com/slt666666/FAO_lecture/blob/main/simulation8.png?raw=true\" alt=\"title\" height=\"300px\">\n",
        "\n",
        "To predict which SNP position is causative from bulked sequence data,\n",
        "\n",
        "we will map these sequence reads to the **cultivar_A** genotype and calculate SNP-index.\n",
        "\n",
        "Based on SNP-index of high-bulk and low-bulk, we identify the allele that only one of bulked samples have.\n",
        "\n",
        "```\n",
        "※In this notebook, we used fasta file as sequence data. \n",
        "\n",
        "But basically, fastq file is used for MutMap analysis, which include quality score of sequences.\n",
        "```"
      ],
      "metadata": {
        "id": "ICTDKi2IDXG6"
      }
    },
    {
      "cell_type": "markdown",
      "source": [
        "### Alignment reads to the reference sequence\n",
        "\n",
        "After we get sequence data of high bulked samples & low bulked samples, we will map these sequences to the cultivar A genome & align them.\n",
        "\n",
        "Then, we calculate the bias of the number of variant for each position.\n",
        "\n",
        "<img src=\"https://github.com/slt666666/FAO_lecture/blob/main/simulation9.png?raw=true\" alt=\"title\" height=\"400px\">\n",
        "\n",
        "In this notebook, we will conduct alignment of these reads via our program.\n",
        "\n",
        "But basically, mapping tool such as [BWA](http://bio-bwa.sourceforge.net/) are used.\n",
        "\n",
        "So, if you conduct QTL-seq analysis by your own data, mapping tool is recommended."
      ],
      "metadata": {
        "id": "cWYdn7OlDbJ3"
      }
    },
    {
      "cell_type": "code",
      "source": [
        "high_bulk_alignment_result, low_bulk_alignment_result = alignment(high_reads, low_reads, cultivar_A)"
      ],
      "metadata": {
        "id": "NGzsiHp_DU6C"
      },
      "execution_count": null,
      "outputs": []
    },
    {
      "cell_type": "markdown",
      "source": [
        "Above code conducted alignment of bulked sequences.\n",
        "\n",
        "You can check the alignment result by below code."
      ],
      "metadata": {
        "id": "HH-8nP8A-KkI"
      }
    },
    {
      "cell_type": "code",
      "source": [
        "import pandas as pd\n",
        "pd.set_option('display.max_rows', 1000)\n",
        "pd.set_option('display.max_columns', 200)\n",
        "print(\"High-bulk\")\n",
        "display(high_bulk_alignment_result)\n",
        "print(\"Low-bulk\")\n",
        "display(low_bulk_alignment_result)"
      ],
      "metadata": {
        "id": "DK16422_-LQm"
      },
      "execution_count": null,
      "outputs": []
    },
    {
      "cell_type": "markdown",
      "source": [
        "### Calculate SNP index based on alignment results for low bulk & high bulk\n",
        "\n",
        "After the alignment, we calculate SNP index for each bulk.\n",
        "\n",
        "In this study, SNP index showed the ratio of the allele which is different from cultivar_A for each genomic position.\n",
        "\n",
        "SNP index is close to 1, the ratio is biased (almost all samples has a SNP that base is different from cultivar_A at this position).\n",
        "\n",
        "<img src=\"https://github.com/slt666666/FAO_lecture/blob/main/simulation12.png?raw=true\" alt=\"title\" height=\"250px\">"
      ],
      "metadata": {
        "id": "8Lag5xCUDwIf"
      }
    },
    {
      "cell_type": "code",
      "source": [
        "high_bulk_SNP_index, low_bulk_SNP_index = calculate_SNP_index(high_bulk_alignment_result, low_bulk_alignment_result, cultivar_A, cultivar_B)"
      ],
      "metadata": {
        "id": "AvQK8yl2hU4B"
      },
      "execution_count": null,
      "outputs": []
    },
    {
      "cell_type": "markdown",
      "source": [
        "Above code calculate SNP-index based on alignment result.\n",
        "\n",
        "You can check the SNP-index by below code."
      ],
      "metadata": {
        "id": "hmuS1fAR_6OJ"
      }
    },
    {
      "cell_type": "code",
      "source": [
        "print(\"High bulk\")\n",
        "display(high_bulk_SNP_index)\n",
        "print(\"Low bulk\")\n",
        "display(low_bulk_SNP_index)"
      ],
      "metadata": {
        "id": "WNedcbE6_5yp"
      },
      "execution_count": null,
      "outputs": []
    },
    {
      "cell_type": "markdown",
      "source": [
        "## 5. Visulalize SNP index plot\n",
        "\n",
        "After calculating SNP index, visualize it to search the causative position.\n"
      ],
      "metadata": {
        "id": "LuuOeEd7EEeD"
      }
    },
    {
      "cell_type": "code",
      "source": [
        "visualize_SNP_index(high_bulk_SNP_index, low_bulk_SNP_index)"
      ],
      "metadata": {
        "id": "ZMDTG3c38nDD"
      },
      "execution_count": null,
      "outputs": []
    },
    {
      "cell_type": "markdown",
      "source": [
        "These graph looks there are several causative candidate positions ... ?"
      ],
      "metadata": {
        "id": "DtTqddIieWiw"
      }
    },
    {
      "cell_type": "markdown",
      "source": [
        "## 6. Calculate ΔSNP-index\n",
        "\n",
        "To identify the SNP position that only High or Low bulk samples has, we calculate ΔSNP-index.\n",
        "\n",
        "In case of below example, there are 2 peaks. \n",
        "\n",
        "The SNP located in the first peak...\n",
        "- Low bulk samples showed low SNP-index = cultivar A type.\n",
        "- High bulk samples showed high SNP-index = cultivar B type.\n",
        "\n",
        "→ Only high bulk has cultivar B type. → This position affect the phenotype.\n",
        "\n",
        "The SNP located in the second peak...\n",
        "- Low bulk samples showed high SNP-index = cultivar B type.\n",
        "- High bulk samples showed high SNP-index = cultivar B type.\n",
        "\n",
        "→ Both high and low bulks have cultivar B type. → This position may not affect the phenotype.\n",
        "\n",
        "<img src=\"https://github.com/slt666666/FAO_lecture/blob/main/simulation11.png?raw=true\" alt=\"title\" height=\"600px\">"
      ],
      "metadata": {
        "id": "51y8iDfcqzE6"
      }
    },
    {
      "cell_type": "code",
      "source": [
        "delta_SNP_index = calculate_delta_SNP_index(high_bulk_SNP_index, low_bulk_SNP_index)"
      ],
      "metadata": {
        "id": "ao6N1b17q5bp"
      },
      "execution_count": null,
      "outputs": []
    },
    {
      "cell_type": "markdown",
      "source": [
        "## 7. Visulalize ΔSNP-index plot\n",
        "\n",
        "After calculating ΔSNP-index, visualize it to search the causative position."
      ],
      "metadata": {
        "id": "edSAr6FBq5qr"
      }
    },
    {
      "cell_type": "code",
      "source": [
        "visualize_delta_SNP_index(delta_SNP_index)"
      ],
      "metadata": {
        "id": "HfK53pkDca_v"
      },
      "execution_count": null,
      "outputs": []
    },
    {
      "cell_type": "markdown",
      "source": [
        "Red circle showed the position of ΔSNP-index > 0.9."
      ],
      "metadata": {
        "id": "2UzqTMk2jwiL"
      }
    },
    {
      "cell_type": "markdown",
      "source": [
        "## check analysis results & real genotype\n",
        "\n",
        "QTL-seq analysis showed the 12th position is causative SNP, because delta SNP index is 1.\n",
        "\n",
        "The below code showed the SNP effect that simulation program generated at part1.\n",
        "\n",
        "(※As mentioned before, this is simulation population, so we can know all effect of SNPs.)"
      ],
      "metadata": {
        "id": "4cX0qVWABLB-"
      }
    },
    {
      "cell_type": "code",
      "source": [
        "check_results(delta_SNP_index)"
      ],
      "metadata": {
        "id": "P53_UrRdEQ-d"
      },
      "execution_count": null,
      "outputs": []
    },
    {
      "cell_type": "markdown",
      "source": [
        "The setting of this simulation was ... 1 SNP has big effect on phenotype (+10).\n",
        "\n",
        "QTLseq analysis success to identify this position using only reference fasta & high and low bulked fasta!!"
      ],
      "metadata": {
        "id": "s-woPrBgOwGu"
      }
    },
    {
      "cell_type": "markdown",
      "source": [
        "# Play with simulation!\n",
        "\n",
        "You can specify\n",
        "- the length of reference genome\n",
        "- the number of mutations\n",
        "- the number of progeny\n",
        "- the number of reads\n",
        "\n",
        "please make different situation & perform MutMap analysis using below code."
      ],
      "metadata": {
        "id": "8qBrw3dP_POn"
      }
    },
    {
      "cell_type": "code",
      "source": [
        "qtl_seq_simulation(length=100, snp=40, progeny=200, reads=500)"
      ],
      "metadata": {
        "id": "nuBSWI7v_QEr"
      },
      "execution_count": null,
      "outputs": []
    },
    {
      "cell_type": "markdown",
      "source": [
        "# Sliding window analysis\n",
        "\n",
        "In this part, we use the results that we analyzed yesterday in 2nd practice to experience sliding window analysis.\n"
      ],
      "metadata": {
        "id": "ZbisCkqHNt8C"
      }
    },
    {
      "cell_type": "markdown",
      "source": [
        "## Review of Sliding Window analysis\n",
        "\n",
        "Different from simulation study, the real data (experimental data) does not always showed theoretically correct values.\n",
        "\n",
        "The real data usually contains errors, outliers, human error...etc.\n",
        "\n",
        "For MutMap(QTLseq) analysis, SNP-index will be different from expected values due to the errors.\n",
        "\n",
        "ex) When the read depth is not enough,\n",
        "\n",
        "sometimes it could lead a big outlier like SNP-index=0(or SNP-index=1) in the not important SNP position.\n",
        "\n",
        "### Sliding window\n",
        "\n",
        "To escape these errors, one approach is taking the average of SNP-indexes of nearby regions.\n",
        "\n",
        "It will diminish the influence of error and result in a more correct value.\n",
        "\n",
        "Applying sliding window analysis to MutMap/QTL-seq, we can calculate mean values of SNP-index in the specific interval and identify regions that show high/low average SNP-index.\n",
        "\n",
        "As a result, we can get highly reliable SNP-index results.\n",
        "\n",
        "\n",
        "<img src=\"https://github.com/slt666666/FAO_lecture/blob/main/simulation13.png?raw=true\" alt=\"title\" height=\"400px\">\n",
        "\n",
        "The process of sliding window analysis is...\n",
        "\n",
        "1. Decide the size of interval, and step size(Movement size to next interval)\n",
        "1. Extract data (SNP-indexes) in the interval.\n",
        "1. Calculate average value of them.\n",
        "1. Move the interval by the step size.\n",
        "1. Continue 2-4 process to finish the whole region."
      ],
      "metadata": {
        "id": "95A7GRBEsOjS"
      }
    },
    {
      "cell_type": "markdown",
      "source": [
        "## Dataset\n",
        "\n",
        "We used yesterday's results of SNP-index.\n",
        "\n",
        "**Materials & Methods are same as yesterday.**\n"
      ],
      "metadata": {
        "id": "tWZ-iVMD0foG"
      }
    },
    {
      "cell_type": "markdown",
      "source": [
        "### Materials\n",
        "\n",
        "We used rice cultivar \"Hitomebore\" as a reference. \n",
        "\n",
        "\"Hit1917-pl1\" cultivar was generated by mutagenesis and showed lightgreen leaf color (low chlorophyll content).\n",
        "\n",
        "Hit1917-pl1 has almost 1500 SNPs that are different from reference.\n"
      ],
      "metadata": {
        "id": "KF6GfH3MNxlq"
      }
    },
    {
      "cell_type": "markdown",
      "source": [
        "### Methods\n",
        "\n",
        "To identify which SNP variant is causative for the change of leaf color, we conducted MutMap analysis.\n",
        "\n",
        "We generated over 200 F2 progenies by crossing reference and mutant lines.\n",
        "\n",
        "<img src=\"https://github.com/slt666666/FAO_lecture/blob/main/material.png?raw=true\" alt=\"title\" height=\"400px\">"
      ],
      "metadata": {
        "id": "e2Pav8mkvHcw"
      }
    },
    {
      "cell_type": "markdown",
      "source": [
        "### Bulked sequencing & alignment\n",
        "\n",
        "Then, we conducted bulked sequencing of progenies that showed mutant phenotype.\n",
        "\n",
        "(You can access sequence data in [DRA000499](https://www.ncbi.nlm.nih.gov/sra?term=DRA000499) as a reference.)\n",
        "\n",
        "After that, we aligned these sequences and calculate SNP index.\n",
        "\n",
        "In this notebook, we used [table data](https://raw.githubusercontent.com/CropEvol/lecture/master/data/mutmap_chr10.txt) that showed alignment results (the SNP information) in the chromosome10.\n",
        "\n",
        "<img src=\"https://github.com/slt666666/FAO_lecture/blob/main/sample_data.png?raw=true\" alt=\"title\" height=\"300px\">\n",
        "\n"
      ],
      "metadata": {
        "id": "2kWaCxBISXog"
      }
    },
    {
      "cell_type": "markdown",
      "source": [
        "To download the table data (alignment & SNP calling results & the result of SNP-index), please run the below cell."
      ],
      "metadata": {
        "id": "OgxXpuusSf09"
      }
    },
    {
      "cell_type": "code",
      "source": [
        "!wget -q -O mutmap_dataset.txt https://raw.githubusercontent.com/CropEvol/lecture/master/data/mutmap_chr10.txt\n",
        "SNP_index = get_yesterday_SNP_index()\n",
        "SNP_index"
      ],
      "metadata": {
        "id": "p7yOprThSkOA"
      },
      "execution_count": null,
      "outputs": []
    },
    {
      "cell_type": "markdown",
      "metadata": {
        "id": "pBWuwDJz-Jai"
      },
      "source": [
        "## Visualize SNP index plot\n",
        "\n",
        "Below code visualize original SNP index plot. (same plot as yesterday.)\n",
        "\n",
        "- x axis: position in the chromosome（column:`POS`）\n",
        "- y axis: SNP index（column:`SNP_index`）\n"
      ]
    },
    {
      "cell_type": "code",
      "metadata": {
        "id": "wyCIIOKbuV7p"
      },
      "source": [
        "visualize_SNP_index2(SNP_index)"
      ],
      "execution_count": null,
      "outputs": []
    },
    {
      "cell_type": "markdown",
      "source": [
        "Red circles showed high SNP-index (>0.8). \n",
        "\n",
        "There are multiple position showed high SNP-index.\n",
        "\n",
        "To extract more reliable regions from this results, sliding window analysis is one approach."
      ],
      "metadata": {
        "id": "Si_y1YaxwmTt"
      }
    },
    {
      "cell_type": "markdown",
      "source": [
        "## Sliding window analysis & visualize it.\n",
        "\n",
        "Below code perform sliding window analysis for results of SNP-index and visualize it.\n",
        "\n",
        "Window size & Step size to perform sliding window analysis can be determined.\n",
        "\n",
        "At first, we set window size = 1mbp & step size = 200kbp.\n",
        "\n",
        "(considering that the legth of chromosome10 is 23207287bp.)"
      ],
      "metadata": {
        "id": "PiCsEGlBw8Z1"
      }
    },
    {
      "cell_type": "code",
      "source": [
        "sliding_window_results = sliding_window(SNP_index, window_size=1000000, step_size = 200000)"
      ],
      "metadata": {
        "id": "j2NWBvJn1-jL"
      },
      "execution_count": null,
      "outputs": []
    },
    {
      "cell_type": "markdown",
      "source": [
        "Red line showed average SNP-index for each interval.\n",
        "\n",
        "Plot showed 22~23Mbp in chromosome 10 showed high average SNP-index.\n",
        "\n",
        "Following this result, there is a gene that related to leaf color in 22~23Mbp, chromosome 10.\n",
        "\n",
        "In this region, there is a gene \"OsCAO1\" that codes Chlorophyllide a oxygenase.\n",
        "\n",
        "And it was known that the knock-out line of OsCAO1 showed light green leaf. (Abe et al., 2012)。\n"
      ],
      "metadata": {
        "id": "9wguB-6sx0YF"
      }
    },
    {
      "cell_type": "code",
      "source": [
        "sliding_window_results"
      ],
      "metadata": {
        "id": "HRUkdODCq9CP"
      },
      "execution_count": null,
      "outputs": []
    },
    {
      "cell_type": "markdown",
      "source": [
        "## Our developped MutMap/QTL-seq analysis pipeline include sliding window analysis\n",
        "\n",
        "You can specify window size & step size in these pipelines.\n",
        "\n",
        "- MutMap\n",
        "https://github.com/YuSugihara/MutMap#Usage\n",
        "\n",
        "- QTL-seq\n",
        "https://github.com/YuSugihara/QTL-seq#usage"
      ],
      "metadata": {
        "id": "2cTX5tWy2VlH"
      }
    },
    {
      "cell_type": "markdown",
      "metadata": {
        "id": "PFTQIMDGuYAT"
      },
      "source": [
        "---\n",
        "## Summary\n",
        "\n",
        "In this notebook, we demonstrate **QTL-seq** analysis using simulation data.\n",
        "\n",
        "And **Sliding window** analysis using published data.\n",
        "\n",
        "Actually, MutMap & QTL-seq analysi is very simple & easy methods.\n",
        "\n",
        "<br>\n",
        "\n",
        "The important point is how to interpret the results (SNP-index values).\n",
        "\n",
        "We should take care of false positives, errors, ...etc\n",
        "\n",
        "by applying sliding window analysis, checking read depth of interested SNPs...etc\n",
        "\n",
        "<br>\n",
        "\n",
        "Tomorrow, we'll plan to demonstrate **genomic prediction**."
      ]
    },
    {
      "cell_type": "code",
      "source": [
        ""
      ],
      "metadata": {
        "id": "Y4L8sV4L0wqY"
      },
      "execution_count": null,
      "outputs": []
    }
  ]
}