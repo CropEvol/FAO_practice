{
  "nbformat": 4,
  "nbformat_minor": 0,
  "metadata": {
    "colab": {
      "name": "QTL-seq.ipynb",
      "provenance": [],
      "collapsed_sections": [],
      "toc_visible": true
    },
    "kernelspec": {
      "name": "python3",
      "display_name": "Python 3"
    }
  },
  "cells": [
    {
      "cell_type": "markdown",
      "metadata": {
        "id": "vFnKcfhjYcjf"
      },
      "source": [
        "<img src=\"https://github.com/slt666666/FAO_lecture/blob/main/title.png?raw=true\" alt=\"title\" height=\"300px\">\n"
      ]
    },
    {
      "cell_type": "markdown",
      "metadata": {
        "id": "31NfnQcvPDoY"
      },
      "source": [
        "# QTL-seq - practice -\n",
        "\n",
        "We will perform QTL-seq analysis using simulation data & perform sliding window analysis using yesterday's result in this practice part.\n",
        "\n",
        "It may help you to understand ...\n",
        "* the process of QTL-seq analysis \n",
        "* How to interpret the results of QTL-seq analysis\n",
        "* What data is required for QTL-seq\n",
        "* What is sliding window analysis & Why it is required."
      ]
    },
    {
      "cell_type": "markdown",
      "source": [
        "## The contents in this notebook ... \n",
        "\n",
        "* Review of QTL-seq\n",
        "\n",
        "* Practice - QTL-seq analysis for simulation data -\n",
        "\n",
        "  * We assume very simple organism & conduct QTL-seq analysis to understand the process of QTL-seq.\n",
        "\n",
        "* Introduction of QTL-Seq pipeline (Github)\n",
        "\n",
        "* Sliding window analysis\n",
        "  * What is sliding window analysis for MutMap & QTL-seq?\n",
        "  * We use published data in MutMap paper [(Abe et al., 2012)](https://www.nature.com/articles/nbt.2095) & perform sliding window analysis."
      ],
      "metadata": {
        "id": "wZpUAKrgmHnm"
      }
    },
    {
      "cell_type": "markdown",
      "source": [
        "# Main contents"
      ],
      "metadata": {
        "id": "pYgp_cqzl-pM"
      }
    },
    {
      "cell_type": "markdown",
      "source": [
        "# Review of QTL-seq\n",
        "\n",
        "  QTL-seq analysis is one the methods to identify the genomic region which is associate with the quantitative traits. (like QTL mapping.)\n",
        "\n",
        "* MutMap: Qualitative trait\n",
        "\n",
        "* QTL-seq: Quantitative trait\n",
        "\n",
        "The brief process of QTL-seq is below:\n",
        "\n",
        "1. Cross 2 cultivars that showed different phenotype to generate F2 population and survey phenotypes of F2  progenies.\n",
        "\n",
        "1. If there are segregtion, Select 20~ samples each showing opposite phenotypes (high and low).\n",
        "\n",
        "1. Collect bulked DNA from selected samples for each phenotype (Low bulk & High bulk), and perform next generation sequencing (bulk sequencing).\n",
        "\n",
        "1. Sequence reads are aligned to the reference genome of one parent. And then, calculate SNP-index for whole genome region based on alignment results.\n",
        "\n",
        "1. Finally, to compare SNP-index between high bulk and low bulk, calculate ΔSNP-index which indicate the difference of SNP-index between high and low bulks. As a results, the genomic region which allele frequency is hugely different between high and low bulk are identified as high ΔSNP-index(0 <) or low ΔSNP-index(< 0).\n",
        "\n",
        "This genomic region is candidate of causative region that affect phenotype.\n",
        "\n",
        "<img src=\"https://github.com/slt666666/FAO_lecture/blob/main/QTLseq.png?raw=true\" alt=\"title\" height=\"750px\">\n",
        "\n",
        "In this practice lecture, we plan to experience each step using simulation data to understand the process of QTL-seq."
      ],
      "metadata": {
        "id": "ISbXd9Yh93Tv"
      }
    },
    {
      "cell_type": "markdown",
      "source": [
        "# Practice: QTLseq analysis using very simple simulation data\n",
        "\n",
        "!! please run the below code, this code downloads programs. !!"
      ],
      "metadata": {
        "id": "PCBiPJQSstQP"
      }
    },
    {
      "cell_type": "code",
      "source": [
        "# Prepare modules & packages\n",
        "!wget -O module_qtlseq.py https://github.com/slt666666/FAO_lecture/blob/main/module_qtlseq.py?raw=true\n",
        "\n",
        "from module_qtlseq import make_2_cultivars\n",
        "from module_qtlseq import make_F2_progeny\n",
        "from module_qtlseq import check_distribution\n",
        "from module_qtlseq import high_and_low_bulk_sequencing\n",
        "from module_qtlseq import alignment\n",
        "from module_qtlseq import calculate_SNP_index\n",
        "from module_qtlseq import visualize_SNP_index\n",
        "from module_qtlseq import calculate_delta_SNP_index\n",
        "from module_qtlseq import visualize_delta_SNP_index\n",
        "from module_qtlseq import check_results\n",
        "from module_qtlseq import qtl_seq_simulation\n",
        "from module_qtlseq import get_yesterday_SNP_index\n",
        "from module_qtlseq import visualize_SNP_index2\n",
        "from module_qtlseq import sliding_window"
      ],
      "metadata": {
        "id": "fDO6J6iQpKBc"
      },
      "execution_count": null,
      "outputs": []
    },
    {
      "cell_type": "markdown",
      "source": [
        "## Simulation (default setting):\n",
        "\n",
        "* We assume the plant which has only 1 chromosome & 100 bp.\n",
        "\n",
        "* There are 2 cultivars, cultivar A & cultivar B. The height of cultivar B is shorter than cultivar A.\n",
        "\n",
        "* Cultivar B has 40 SNPs that are different from reference genotype.\n",
        "\n",
        "* One of 40 SNPs has a big effect on the plant height. Other SNPs also have small effect.\n",
        "\n",
        "(It's not realistic, just simulation.)\n",
        "\n",
        "<img src=\"https://github.com/slt666666/FAO_lecture/blob/main/simulation5.png?raw=true\" alt=\"title\" height=\"200px\">\n",
        "\n",
        "Please tun the below code to make 2 cultivars !!\n"
      ],
      "metadata": {
        "id": "czAaaKCYuZ1S"
      }
    },
    {
      "cell_type": "code",
      "source": [
        "cultivar_A, cultivar_B = make_2_cultivars(length=100, snp=40)\n",
        "print(\"cultivar A (tall):\", cultivar_A)\n",
        "print(\"cultivar B (short):\", cultivar_B)"
      ],
      "metadata": {
        "id": "jE2xL8FPlZ-E"
      },
      "execution_count": null,
      "outputs": []
    },
    {
      "cell_type": "markdown",
      "source": [
        "## 1. Cross parent lines and generate F2 progeny\n",
        "\n",
        "To identify a causative SNP that affect plant height of cultivar A & B, we perform QTL-seq analysis.\n",
        "\n",
        "At first, we make F2 population by crossing cultivar A and cultivar B to perform QTL-seq.\n",
        "\n",
        "<img src=\"https://github.com/slt666666/FAO_lecture/blob/main/simulation6.png?raw=true\" alt=\"title\" height=\"300px\">\n",
        "\n",
        "The phenotypes of F2 progenies are randomly distributed depending on their genotypes.\n",
        "\n",
        "<br>\n",
        "\n",
        "Please run the below code to generate F2 progenies between Cultivar A and B.\n",
        "\n",
        "The below code generates 200 F2 progenies."
      ],
      "metadata": {
        "id": "aoNMPnGj3NHF"
      }
    },
    {
      "cell_type": "code",
      "source": [
        "f2_progeny = make_F2_progeny(cultivar_A, cultivar_B, progeny=200)\n",
        "check_distribution(f2_progeny)"
      ],
      "metadata": {
        "id": "wUqWS0tGYoW-"
      },
      "execution_count": null,
      "outputs": []
    },
    {
      "cell_type": "markdown",
      "source": [
        "※ Until here(Generate F2 progeny), the process are experimental part in reality.\n",
        "\n",
        "```\n",
        "※ The above program generates genotype of progeny which is randomly mixed between cultivar A and cultivar B.\n",
        "\n",
        "Then, program decide the phenotype values based on the simulated effect of each SNP genotype (& This program consider the error variance).\n",
        "\n",
        "So, the program saved the genotype data of simulated population & the effect of each SNP.\n",
        "\n",
        "Therefore, we can check the result of QTL-seq is correct or not by comparing simulated data.\n",
        "```"
      ],
      "metadata": {
        "id": "ZhdJHma_SG21"
      }
    },
    {
      "cell_type": "markdown",
      "source": [
        "## 3. Bulk sequence of samples with high phenotype & low phenotype.\n",
        "\n",
        "If there is a SNP that only high(/low) phenotype samples have, this SNP is causative.\n",
        "\n",
        "So, to identify which SNP has significant effect, we select sample sets which showed high phenotype and low phenotype.\n",
        "\n",
        "Then, we perform bulked sequencing for each sample set.\n",
        "\n",
        "In this notebook, we collect top 20 samples and bottom 20 samples for phenotype values.\n",
        "\n",
        "<img src=\"https://github.com/slt666666/FAO_lecture/blob/main/simulation7.png?raw=true\" alt=\"title\" height=\"400px\">\n",
        "\n",
        "\n",
        "Please run the below code to perform bulk sequencing for each sample set!!\n",
        "\n",
        "Below code generate sequence read file for each bulk."
      ],
      "metadata": {
        "id": "e0RkR0EhAVST"
      }
    },
    {
      "cell_type": "code",
      "source": [
        "high_reads, low_reads = high_and_low_bulk_sequencing(f2_progeny, top=20, bottom=20, reads=500)"
      ],
      "metadata": {
        "id": "soVcOIaee44t"
      },
      "execution_count": null,
      "outputs": []
    },
    {
      "cell_type": "markdown",
      "source": [
        "You can check these fastq files using file system ↓\n",
        "\n",
        "```\n",
        "How to check files in your Google Colab server space.\n",
        "1. Click the file icon in upper left.\n",
        "2. The file list showed files in your server space.\n",
        "(3. if there is no \"high_bulked_sequences.fastq\" and \"low_bulked_sequences.fastq\", please click the third icon from the right\n",
        "```\n",
        "<img src=\"https://github.com/slt666666/FAO_lecture/blob/main/filesystem.png?raw=true\" alt=\"title\" height=\"250px\">"
      ],
      "metadata": {
        "id": "17FTRBQqbNaQ"
      }
    },
    {
      "cell_type": "markdown",
      "source": [
        "## 4. Calculate SNP index\n",
        "\n",
        "To check are there SNPs that only high(/low) phenotype samples have,  we calculate SNP-index for each bulk.\n",
        "\n",
        "We will align these sequence reads to the **cultivar_A** genotype and calculate SNP-index.\n",
        "\n",
        "Based on SNP-index of high-bulk and low-bulk, we identify the SNP that only one of bulked samples have.\n",
        "\n",
        "<img src=\"https://github.com/slt666666/FAO_lecture/blob/main/simulation8.png?raw=true\" alt=\"title\" height=\"300px\">\n"
      ],
      "metadata": {
        "id": "ICTDKi2IDXG6"
      }
    },
    {
      "cell_type": "markdown",
      "source": [
        "### Alignment reads to the reference sequence\n",
        "\n",
        "To calculate SNP-index, we need to align sequences to the cultivar A genome.\n",
        "\n",
        "Then, we calculate the number of variants in bulked DNA for each SNP position.\n",
        "\n",
        "<img src=\"https://github.com/slt666666/FAO_lecture/blob/main/simulation9.png?raw=true\" alt=\"title\" height=\"400px\">\n",
        "\n",
        "Please run the below code to align bulk sequence reads to cultivar A genotype !!\n"
      ],
      "metadata": {
        "id": "cWYdn7OlDbJ3"
      }
    },
    {
      "cell_type": "code",
      "source": [
        "high_bulk_alignment_result, low_bulk_alignment_result = alignment(high_reads, low_reads, cultivar_A)"
      ],
      "metadata": {
        "id": "NGzsiHp_DU6C"
      },
      "execution_count": null,
      "outputs": []
    },
    {
      "cell_type": "markdown",
      "source": [
        "\n",
        "```\n",
        "※ In this notebook, we perform alignment of sequence reads by our program.\n",
        "\n",
        "But basically, when we perform alignment, we use mapping tool such as BWA(http://bio-bwa.sourceforge.net/).\n",
        "\n",
        "So, if you conduct QTL-seq analysis by your own data, it may has required to use mapping tool.\n",
        "\n",
        "But QTL-seq pipeline that we will introduce later contains mapping tools. So, you don't need to care about it.\n",
        "```"
      ],
      "metadata": {
        "id": "HH-8nP8A-KkI"
      }
    },
    {
      "cell_type": "markdown",
      "source": [
        "### Calculate SNP index based on alignment results for low bulk & high bulk\n",
        "\n",
        "After the alignment, we can calculate SNP index for each bulk.\n",
        "\n",
        "In this study, SNP index showed the ratio of the allele which is different from cultivar_A for each SNP position.\n",
        "\n",
        "If SNP index is close to 1, the ratio is biased (almost all samples has a SNP that is different from cultivar_A genotype).\n",
        "\n",
        "<img src=\"https://github.com/slt666666/FAO_lecture/blob/main/simulation12.png?raw=true\" alt=\"title\" height=\"250px\">\n",
        "\n",
        "Please run the below code to calculate SNP-index for each bulk !!"
      ],
      "metadata": {
        "id": "8Lag5xCUDwIf"
      }
    },
    {
      "cell_type": "code",
      "source": [
        "high_bulk_SNP_index, low_bulk_SNP_index = calculate_SNP_index(high_bulk_alignment_result, low_bulk_alignment_result, cultivar_A, cultivar_B)\n",
        "print(\"High bulk\")\n",
        "display(high_bulk_SNP_index)\n",
        "print(\"Low bulk\")\n",
        "display(low_bulk_SNP_index)"
      ],
      "metadata": {
        "id": "AvQK8yl2hU4B"
      },
      "execution_count": null,
      "outputs": []
    },
    {
      "cell_type": "markdown",
      "source": [
        "## 5. Visulalize SNP index plot for each bulk samples\n",
        "\n",
        "After calculating SNP index, visualize it to see the SNP position that allele frequency is biased to the each bulk.\n"
      ],
      "metadata": {
        "id": "LuuOeEd7EEeD"
      }
    },
    {
      "cell_type": "code",
      "source": [
        "visualize_SNP_index(high_bulk_SNP_index, low_bulk_SNP_index)"
      ],
      "metadata": {
        "id": "ZMDTG3c38nDD"
      },
      "execution_count": null,
      "outputs": []
    },
    {
      "cell_type": "markdown",
      "source": [
        "## 6. Calculate ΔSNP-index\n",
        "\n",
        "These above graphs showed there are several high SNP-index positions in each bulk.\n",
        "\n",
        "But positions that showed high SNP index in both high and low bulk may not be candidates.\n",
        "\n",
        "So, we should remove this kind of positions and identify the high SNP-index position that only High or Low bulk samples has.\n",
        "\n",
        "To do that, we calculate ΔSNP-index.\n",
        "\n",
        "<img src=\"https://github.com/slt666666/FAO_lecture/blob/main/simulation11.png?raw=true\" alt=\"title\" height=\"600px\">\n",
        "\n",
        "Please run the below code to caculate ΔSNP-index !!"
      ],
      "metadata": {
        "id": "51y8iDfcqzE6"
      }
    },
    {
      "cell_type": "code",
      "source": [
        "delta_SNP_index = calculate_delta_SNP_index(high_bulk_SNP_index, low_bulk_SNP_index)\n",
        "delta_SNP_index"
      ],
      "metadata": {
        "id": "ao6N1b17q5bp"
      },
      "execution_count": null,
      "outputs": []
    },
    {
      "cell_type": "markdown",
      "source": [
        "## 7. Visulalize ΔSNP-index plot\n",
        "\n",
        "After calculating ΔSNP-index, visualize it to search the causative position."
      ],
      "metadata": {
        "id": "edSAr6FBq5qr"
      }
    },
    {
      "cell_type": "code",
      "source": [
        "visualize_delta_SNP_index(delta_SNP_index)"
      ],
      "metadata": {
        "id": "HfK53pkDca_v"
      },
      "execution_count": null,
      "outputs": []
    },
    {
      "cell_type": "markdown",
      "source": [
        "Red circle showed the position of ΔSNP-index > 0.9."
      ],
      "metadata": {
        "id": "2UzqTMk2jwiL"
      }
    },
    {
      "cell_type": "markdown",
      "source": [
        "## check analysis results & real genotype\n",
        "\n",
        "QTL-seq analysis showed causative SNP that has ΔSNP index is almost 1.\n",
        "\n",
        "The below code showed the effect of each SNP & calculated ΔSNP-index (sorted by SNP effect.)\n",
        "\n",
        "Try to check QTL-seq result is correct or not !!"
      ],
      "metadata": {
        "id": "4cX0qVWABLB-"
      }
    },
    {
      "cell_type": "code",
      "source": [
        "check_results(delta_SNP_index)"
      ],
      "metadata": {
        "id": "P53_UrRdEQ-d"
      },
      "execution_count": null,
      "outputs": []
    },
    {
      "cell_type": "markdown",
      "source": [
        "The setting of this simulation was ... 1 SNP has big effect on phenotype (+10).\n",
        "\n",
        "QTLseq analysis success to identify the position using only reference fasta & high and low bulked sequencing data!!"
      ],
      "metadata": {
        "id": "s-woPrBgOwGu"
      }
    },
    {
      "cell_type": "markdown",
      "source": [
        "# Play with simulation!\n",
        "\n",
        "You can specify\n",
        "- the length of reference genome\n",
        "- the number of mutations\n",
        "- the number of progeny\n",
        "- the number of reads\n",
        "\n",
        "please make different situation & perform MutMap analysis using below code."
      ],
      "metadata": {
        "id": "8qBrw3dP_POn"
      }
    },
    {
      "cell_type": "code",
      "source": [
        "qtl_seq_simulation(length=100, snp=40, progeny=200, reads=500)"
      ],
      "metadata": {
        "id": "nuBSWI7v_QEr"
      },
      "execution_count": null,
      "outputs": []
    },
    {
      "cell_type": "markdown",
      "source": [
        "# Introduction of QTL-seq pipeline\n",
        "\n",
        "Our laboratory developped the very simple pipeline to conduct QTL-seq.\n",
        "\n",
        "<img src=\"https://github.com/YuSugihara/QTL-seq/blob/master/images/1_logo.png?raw=true\" alt=\"title\" height=\"100px\">\n",
        "\n",
        "(https://github.com/YuSugihara/QTL-seq)\n",
        "\n",
        "This pipeline is very simple to use.\n",
        "\n",
        "To use this pipeline, the required input data is ...\n",
        "\n",
        "The required input data is ...\n",
        "* reference fasta\n",
        "* reference sequence reads\n",
        "* High bulk DNA sequence reads \n",
        "* Low bulk DNA sequence reads\n",
        "\n",
        "And you just install pipeline & use below command. That's it !\n",
        "\n",
        "```\n",
        "# command\n",
        "qtlseq -r reference.fasta -p reference.fastq -b1 high_bulked_sequences.fastq -b2 low_bulked_sequences.fastq -n1 20 -n2 20 -o output_name\n",
        "```\n",
        "\n",
        "<br>\n",
        "\n",
        "```\n",
        "ex) The public avaliable reference genome of Rice is Nipponbare cultivar.\n",
        "\n",
        "But if you want to use different cultivar like Hitomebore cultivar as a reference, reference.fastq is required.\n",
        "```"
      ],
      "metadata": {
        "id": "DT0Rb-vsyrZH"
      }
    },
    {
      "cell_type": "markdown",
      "source": [
        "# Sliding window analysis\n",
        "\n",
        "In this part, we use yesterday's MutMap result in 2nd practice to experience sliding window analysis.\n"
      ],
      "metadata": {
        "id": "ZbisCkqHNt8C"
      }
    },
    {
      "cell_type": "markdown",
      "source": [
        "## Review of Sliding Window analysis\n",
        "\n",
        "Different from simulation study, the real data (experimental data) does not always showed theoretically correct values.\n",
        "\n",
        "The real data usually contains errors, outliers, human error...etc.\n",
        "\n",
        "For MutMap(QTLseq) analysis, SNP-index will be different from expected values due to the errors.\n",
        "\n",
        "ex) When the read depth is not enough,\n",
        "\n",
        "sometimes it could lead a big outlier like SNP-index=0(or SNP-index=1) in the not important SNP position.\n",
        "\n",
        "### Sliding window\n",
        "\n",
        "To escape these errors, one approach is taking the average of SNP-indexes of nearby regions.\n",
        "\n",
        "It will diminish the influence of error and result in a more correct value.\n",
        "\n",
        "Applying sliding window analysis to MutMap/QTL-seq, we can calculate mean values of SNP-index in the specific interval and identify regions that show high/low average SNP-index.\n",
        "\n",
        "As a result, we can get highly reliable SNP-index results.\n",
        "\n",
        "\n",
        "<img src=\"https://github.com/slt666666/FAO_lecture/blob/main/simulation13.png?raw=true\" alt=\"title\" height=\"400px\">\n",
        "\n",
        "The process of sliding window analysis is...\n",
        "\n",
        "1. Decide the size of interval (window size), and movement size to next interval (step size)\n",
        "1. Extract data (SNP-indexes) in the interval.\n",
        "1. Calculate average value of them.\n",
        "1. Move the interval by the step size.\n",
        "1. Continue 2-4 process to finish the whole region."
      ],
      "metadata": {
        "id": "95A7GRBEsOjS"
      }
    },
    {
      "cell_type": "markdown",
      "source": [
        "## Dataset\n",
        "\n",
        "We used yesterday's results of SNP-index.\n",
        "\n",
        "**Materials & Methods are same as yesterday.**\n"
      ],
      "metadata": {
        "id": "tWZ-iVMD0foG"
      }
    },
    {
      "cell_type": "markdown",
      "source": [
        "### Materials\n",
        "\n",
        "We used rice cultivar \"Hitomebore\" as a reference. \n",
        "\n",
        "\"Hit1917-pl1\" cultivar was generated by mutagenesis and showed lightgreen leaf color (low chlorophyll content).\n",
        "\n",
        "Hit1917-pl1 has almost 1500 SNPs that are different from reference.\n"
      ],
      "metadata": {
        "id": "KF6GfH3MNxlq"
      }
    },
    {
      "cell_type": "markdown",
      "source": [
        "### Methods\n",
        "\n",
        "To identify which SNP variant is causative for the change of leaf color, we conducted MutMap analysis.\n",
        "\n",
        "We generated over 200 F2 progenies by crossing reference and mutant lines.\n",
        "\n",
        "<img src=\"https://github.com/slt666666/FAO_lecture/blob/main/material.png?raw=true\" alt=\"title\" height=\"400px\">"
      ],
      "metadata": {
        "id": "e2Pav8mkvHcw"
      }
    },
    {
      "cell_type": "markdown",
      "source": [
        "### Bulked sequencing & alignment\n",
        "\n",
        "Then, we conducted bulked sequencing of progenies that showed mutant phenotype.\n",
        "\n",
        "(You can access sequence data in [DRA000499](https://www.ncbi.nlm.nih.gov/sra?term=DRA000499) as a reference.)\n",
        "\n",
        "After that, we aligned these sequences and calculate SNP index.\n",
        "\n",
        "In this notebook, we used [table data](https://raw.githubusercontent.com/CropEvol/lecture/master/data/mutmap_chr10.txt) that showed alignment results (the SNP information) in the chromosome10.\n",
        "\n",
        "<img src=\"https://github.com/slt666666/FAO_lecture/blob/main/sample_data.png?raw=true\" alt=\"title\" height=\"300px\">\n",
        "\n"
      ],
      "metadata": {
        "id": "2kWaCxBISXog"
      }
    },
    {
      "cell_type": "markdown",
      "source": [
        "Please run the below code, to download the yesterday result (alignment & SNP calling results & SNP-index) !!\n",
        "\n"
      ],
      "metadata": {
        "id": "OgxXpuusSf09"
      }
    },
    {
      "cell_type": "code",
      "source": [
        "!wget -q -O mutmap_dataset.txt https://raw.githubusercontent.com/CropEvol/lecture/master/data/mutmap_chr10.txt\n",
        "SNP_index = get_yesterday_SNP_index()\n",
        "SNP_index"
      ],
      "metadata": {
        "id": "p7yOprThSkOA"
      },
      "execution_count": null,
      "outputs": []
    },
    {
      "cell_type": "markdown",
      "metadata": {
        "id": "pBWuwDJz-Jai"
      },
      "source": [
        "## Visualize SNP index plot\n",
        "\n",
        "Below code visualize original SNP index plot. (same plot as yesterday.)\n",
        "\n",
        "- x axis: position in the chromosome（column:`POS`）\n",
        "- y axis: SNP index（column:`SNP_index`）\n"
      ]
    },
    {
      "cell_type": "code",
      "metadata": {
        "id": "wyCIIOKbuV7p"
      },
      "source": [
        "visualize_SNP_index2(SNP_index)"
      ],
      "execution_count": null,
      "outputs": []
    },
    {
      "cell_type": "markdown",
      "source": [
        "Red circles showed high SNP-index (>0.8). \n",
        "\n",
        "There are multiple positions showed high SNP-index.\n",
        "\n",
        "To extract more reliable regions from this results, we try to perform sliding window analysis."
      ],
      "metadata": {
        "id": "Si_y1YaxwmTt"
      }
    },
    {
      "cell_type": "markdown",
      "source": [
        "## Sliding window analysis & visualize it.\n",
        "\n",
        "Below code perform sliding window analysis.\n",
        "\n",
        "Window size & Step size to perform sliding window analysis can be set.\n",
        "\n",
        "```\n",
        "At first, we set window size = 1mbp & step size = 200kbp\n",
        "(considering that the legth of chromosome10 is 23207287bp.)\n",
        "```"
      ],
      "metadata": {
        "id": "PiCsEGlBw8Z1"
      }
    },
    {
      "cell_type": "code",
      "source": [
        "sliding_window(SNP_index, window_size=1000000, step_size = 200000)"
      ],
      "metadata": {
        "id": "j2NWBvJn1-jL"
      },
      "execution_count": null,
      "outputs": []
    },
    {
      "cell_type": "markdown",
      "source": [
        "Red line showed average SNP-index for each interval.\n",
        "\n",
        "Plot showed 22~23Mbp in chromosome 10 showed high average SNP-index.\n",
        "\n",
        "This result suggests that there is a gene that related to leaf color in 22~23Mbp, chromosome 10.\n",
        "\n",
        "In this region, there is a gene \"OsCAO1\" that codes Chlorophyllide a oxygenase.\n",
        "\n",
        "And it was known that the knock-out line of OsCAO1 showed light green leaf. (Abe et al., 2012)。\n"
      ],
      "metadata": {
        "id": "9wguB-6sx0YF"
      }
    },
    {
      "cell_type": "markdown",
      "source": [
        "## Our developped MutMap/QTL-seq analysis pipeline include sliding window analysis\n",
        "\n",
        "You can specify window size & step size in these pipelines.\n",
        "\n",
        "- MutMap\n",
        "https://github.com/YuSugihara/MutMap#Usage\n",
        "\n",
        "- QTL-seq\n",
        "https://github.com/YuSugihara/QTL-seq#usage"
      ],
      "metadata": {
        "id": "2cTX5tWy2VlH"
      }
    },
    {
      "cell_type": "markdown",
      "metadata": {
        "id": "PFTQIMDGuYAT"
      },
      "source": [
        "---\n",
        "## Summary\n",
        "\n",
        "In this notebook, we demonstrate **QTL-seq** analysis using simulation data.\n",
        "\n",
        "And **Sliding window** analysis using published data.\n",
        "\n",
        "Actually, MutMap & QTL-seq analysi is very simple & easy methods.\n",
        "\n",
        "<br>\n",
        "\n",
        "The important point is how to interpret the results (SNP-index values).\n",
        "\n",
        "We should take care of false positives, errors, ...etc by applying sliding window analysis, checking read depth of interested SNPs...etc\n",
        "\n",
        "<br>\n",
        "\n",
        "Tomorrow, we'll plan to demonstrate **genomic prediction**."
      ]
    },
    {
      "cell_type": "code",
      "source": [
        ""
      ],
      "metadata": {
        "id": "Y4L8sV4L0wqY"
      },
      "execution_count": null,
      "outputs": []
    }
  ]
}